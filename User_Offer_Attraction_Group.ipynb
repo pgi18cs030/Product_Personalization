{
  "nbformat": 4,
  "nbformat_minor": 0,
  "metadata": {
    "colab": {
      "name": "User_Offer_Attraction_Group.ipynb",
      "provenance": [],
      "collapsed_sections": []
    },
    "kernelspec": {
      "display_name": "Python 3",
      "name": "python3"
    },
    "language_info": {
      "name": "python"
    }
  },
  "cells": [
    {
      "cell_type": "markdown",
      "metadata": {
        "id": "ww38DvkItWZD"
      },
      "source": [
        "##**Project name: Product Personalisation** \n",
        "\n",
        "**Problem Statement :** Predict which offers will be most attractive to each individual customer, resulting in more targeted marketing campaigns and higher brand value."
      ]
    },
    {
      "cell_type": "markdown",
      "metadata": {
        "id": "xYrhuMa1jMem"
      },
      "source": [
        "#**Importing Essential Libraries**"
      ]
    },
    {
      "cell_type": "code",
      "metadata": {
        "id": "2IjiRsOUi7TS"
      },
      "source": [
        "import pandas as pd   #data preprocessing\n",
        "import numpy as np    #linear algbra\n",
        "import matplotlib.pyplot as plt  # data visualization\n",
        "import seaborn as sns\n",
        "from sklearn.impute import SimpleImputer\n",
        "from sklearn.compose import ColumnTransformer\n",
        "from sklearn.preprocessing import OneHotEncoder\n",
        "from sklearn.model_selection import train_test_split\n",
        "from sklearn.preprocessing import StandardScaler\n",
        "from sklearn.tree import DecisionTreeRegressor\n",
        "from sklearn.ensemble import RandomForestRegressor\n",
        "from sklearn.metrics import mean_squared_error\n",
        "from sklearn.metrics import mean_absolute_error\n",
        "import pickle"
      ],
      "execution_count": null,
      "outputs": []
    },
    {
      "cell_type": "markdown",
      "metadata": {
        "id": "99UL6V-CkKUt"
      },
      "source": [
        "#**Loading the Data**"
      ]
    },
    {
      "cell_type": "code",
      "metadata": {
        "id": "ZSh1zifIjqWx"
      },
      "source": [
        "dataset=pd.read_csv('user_product_attraction.csv')    #reading the dataset"
      ],
      "execution_count": null,
      "outputs": []
    },
    {
      "cell_type": "code",
      "metadata": {
        "colab": {
          "base_uri": "https://localhost:8080/",
          "height": 204
        },
        "id": "oK-jPMETmPnv",
        "outputId": "1743720e-8940-4366-b1b6-7cfa11ba5b2f"
      },
      "source": [
        "dataset.head()   #displaying top five rows in the dataset"
      ],
      "execution_count": null,
      "outputs": [
        {
          "output_type": "execute_result",
          "data": {
            "text/html": [
              "<div>\n",
              "<style scoped>\n",
              "    .dataframe tbody tr th:only-of-type {\n",
              "        vertical-align: middle;\n",
              "    }\n",
              "\n",
              "    .dataframe tbody tr th {\n",
              "        vertical-align: top;\n",
              "    }\n",
              "\n",
              "    .dataframe thead th {\n",
              "        text-align: right;\n",
              "    }\n",
              "</style>\n",
              "<table border=\"1\" class=\"dataframe\">\n",
              "  <thead>\n",
              "    <tr style=\"text-align: right;\">\n",
              "      <th></th>\n",
              "      <th>Customer_Name</th>\n",
              "      <th>Gender</th>\n",
              "      <th>Salary</th>\n",
              "      <th>Area</th>\n",
              "      <th>Sub_category</th>\n",
              "      <th>Brand</th>\n",
              "      <th>Price</th>\n",
              "      <th>Quantity</th>\n",
              "      <th>Order Date</th>\n",
              "      <th>Recency</th>\n",
              "      <th>History</th>\n",
              "      <th>Offer</th>\n",
              "      <th>Profit</th>\n",
              "    </tr>\n",
              "  </thead>\n",
              "  <tbody>\n",
              "    <tr>\n",
              "      <th>0</th>\n",
              "      <td>James Butt</td>\n",
              "      <td>Male</td>\n",
              "      <td>52032.70</td>\n",
              "      <td>Surburban</td>\n",
              "      <td>Sports Cloths</td>\n",
              "      <td>York</td>\n",
              "      <td>2999</td>\n",
              "      <td>1</td>\n",
              "      <td>11-08-2016</td>\n",
              "      <td>10</td>\n",
              "      <td>3467.1</td>\n",
              "      <td>69% off</td>\n",
              "      <td>41.9136</td>\n",
              "    </tr>\n",
              "    <tr>\n",
              "      <th>1</th>\n",
              "      <td>Josephine Darakjy</td>\n",
              "      <td>NaN</td>\n",
              "      <td>35753.37</td>\n",
              "      <td>Rural</td>\n",
              "      <td>Sports Cloths</td>\n",
              "      <td>York</td>\n",
              "      <td>1499</td>\n",
              "      <td>1</td>\n",
              "      <td>11-08-2016</td>\n",
              "      <td>6</td>\n",
              "      <td>3542.7</td>\n",
              "      <td>66% off</td>\n",
              "      <td>219.5820</td>\n",
              "    </tr>\n",
              "    <tr>\n",
              "      <th>2</th>\n",
              "      <td>Art Venere</td>\n",
              "      <td>Male</td>\n",
              "      <td>64486.29</td>\n",
              "      <td>Surburban</td>\n",
              "      <td>Sports Cloths</td>\n",
              "      <td>York</td>\n",
              "      <td>2999</td>\n",
              "      <td>1</td>\n",
              "      <td>06-12-2016</td>\n",
              "      <td>7</td>\n",
              "      <td>6019.3</td>\n",
              "      <td>68% off</td>\n",
              "      <td>6.8714</td>\n",
              "    </tr>\n",
              "    <tr>\n",
              "      <th>3</th>\n",
              "      <td>Lenna Paprocki</td>\n",
              "      <td>Male</td>\n",
              "      <td>57025.66</td>\n",
              "      <td>Rural</td>\n",
              "      <td>Sports Cloths</td>\n",
              "      <td>York</td>\n",
              "      <td>2999</td>\n",
              "      <td>1</td>\n",
              "      <td>10-11-2015</td>\n",
              "      <td>9</td>\n",
              "      <td>2422.0</td>\n",
              "      <td>69% off</td>\n",
              "      <td>-383.0310</td>\n",
              "    </tr>\n",
              "    <tr>\n",
              "      <th>4</th>\n",
              "      <td>Donette Foller</td>\n",
              "      <td>Male</td>\n",
              "      <td>57130.99</td>\n",
              "      <td>Urban</td>\n",
              "      <td>Sports Cloths</td>\n",
              "      <td>York</td>\n",
              "      <td>2999</td>\n",
              "      <td>1</td>\n",
              "      <td>10-11-2015</td>\n",
              "      <td>2</td>\n",
              "      <td>18638.9</td>\n",
              "      <td>68% off</td>\n",
              "      <td>2.5164</td>\n",
              "    </tr>\n",
              "  </tbody>\n",
              "</table>\n",
              "</div>"
            ],
            "text/plain": [
              "       Customer_Name Gender    Salary  ...  History    Offer    Profit\n",
              "0         James Butt   Male  52032.70  ...   3467.1  69% off   41.9136\n",
              "1  Josephine Darakjy    NaN  35753.37  ...   3542.7  66% off  219.5820\n",
              "2         Art Venere   Male  64486.29  ...   6019.3  68% off    6.8714\n",
              "3     Lenna Paprocki   Male  57025.66  ...   2422.0  69% off -383.0310\n",
              "4     Donette Foller   Male  57130.99  ...  18638.9  68% off    2.5164\n",
              "\n",
              "[5 rows x 13 columns]"
            ]
          },
          "metadata": {
            "tags": []
          },
          "execution_count": 3
        }
      ]
    },
    {
      "cell_type": "code",
      "metadata": {
        "colab": {
          "base_uri": "https://localhost:8080/"
        },
        "id": "RxOvgGYvm_IN",
        "outputId": "5ed57576-4203-488f-87f9-e9a694fec351"
      },
      "source": [
        "dataset.shape   #size of the dataset"
      ],
      "execution_count": null,
      "outputs": [
        {
          "output_type": "execute_result",
          "data": {
            "text/plain": [
              "(26110, 13)"
            ]
          },
          "metadata": {
            "tags": []
          },
          "execution_count": 4
        }
      ]
    },
    {
      "cell_type": "code",
      "metadata": {
        "colab": {
          "base_uri": "https://localhost:8080/"
        },
        "id": "VLEcgApqnuM2",
        "outputId": "db3ce462-9f61-40d8-e573-386a7183c6c4"
      },
      "source": [
        "dataset.columns  #columns for the dataset"
      ],
      "execution_count": null,
      "outputs": [
        {
          "output_type": "execute_result",
          "data": {
            "text/plain": [
              "Index(['Customer_Name', 'Gender', 'Salary', 'Area', 'Sub_category', 'Brand',\n",
              "       'Price', 'Quantity', 'Order Date', 'Recency', 'History', 'Offer',\n",
              "       'Profit'],\n",
              "      dtype='object')"
            ]
          },
          "metadata": {
            "tags": []
          },
          "execution_count": 5
        }
      ]
    },
    {
      "cell_type": "code",
      "metadata": {
        "id": "oFM1XU6osUNT"
      },
      "source": [
        "# displaying null values and unique values in the dataset\n",
        "temp=pd.DataFrame({'null_values': dataset.isnull().sum(),'number_of_unique values' : dataset.nunique()})"
      ],
      "execution_count": null,
      "outputs": []
    },
    {
      "cell_type": "code",
      "metadata": {
        "colab": {
          "base_uri": "https://localhost:8080/",
          "height": 451
        },
        "id": "5kPTnggdtf76",
        "outputId": "fb156c75-15b0-490d-e26e-d438f2201734"
      },
      "source": [
        "temp"
      ],
      "execution_count": null,
      "outputs": [
        {
          "output_type": "execute_result",
          "data": {
            "text/html": [
              "<div>\n",
              "<style scoped>\n",
              "    .dataframe tbody tr th:only-of-type {\n",
              "        vertical-align: middle;\n",
              "    }\n",
              "\n",
              "    .dataframe tbody tr th {\n",
              "        vertical-align: top;\n",
              "    }\n",
              "\n",
              "    .dataframe thead th {\n",
              "        text-align: right;\n",
              "    }\n",
              "</style>\n",
              "<table border=\"1\" class=\"dataframe\">\n",
              "  <thead>\n",
              "    <tr style=\"text-align: right;\">\n",
              "      <th></th>\n",
              "      <th>null_values</th>\n",
              "      <th>number_of_unique values</th>\n",
              "    </tr>\n",
              "  </thead>\n",
              "  <tbody>\n",
              "    <tr>\n",
              "      <th>Customer_Name</th>\n",
              "      <td>0</td>\n",
              "      <td>2798</td>\n",
              "    </tr>\n",
              "    <tr>\n",
              "      <th>Gender</th>\n",
              "      <td>118</td>\n",
              "      <td>2</td>\n",
              "    </tr>\n",
              "    <tr>\n",
              "      <th>Salary</th>\n",
              "      <td>131</td>\n",
              "      <td>25142</td>\n",
              "    </tr>\n",
              "    <tr>\n",
              "      <th>Area</th>\n",
              "      <td>49</td>\n",
              "      <td>3</td>\n",
              "    </tr>\n",
              "    <tr>\n",
              "      <th>Sub_category</th>\n",
              "      <td>44</td>\n",
              "      <td>12</td>\n",
              "    </tr>\n",
              "    <tr>\n",
              "      <th>Brand</th>\n",
              "      <td>0</td>\n",
              "      <td>156</td>\n",
              "    </tr>\n",
              "    <tr>\n",
              "      <th>Price</th>\n",
              "      <td>0</td>\n",
              "      <td>476</td>\n",
              "    </tr>\n",
              "    <tr>\n",
              "      <th>Quantity</th>\n",
              "      <td>0</td>\n",
              "      <td>6</td>\n",
              "    </tr>\n",
              "    <tr>\n",
              "      <th>Order Date</th>\n",
              "      <td>0</td>\n",
              "      <td>1434</td>\n",
              "    </tr>\n",
              "    <tr>\n",
              "      <th>Recency</th>\n",
              "      <td>0</td>\n",
              "      <td>12</td>\n",
              "    </tr>\n",
              "    <tr>\n",
              "      <th>History</th>\n",
              "      <td>0</td>\n",
              "      <td>19027</td>\n",
              "    </tr>\n",
              "    <tr>\n",
              "      <th>Offer</th>\n",
              "      <td>0</td>\n",
              "      <td>85</td>\n",
              "    </tr>\n",
              "    <tr>\n",
              "      <th>Profit</th>\n",
              "      <td>0</td>\n",
              "      <td>7287</td>\n",
              "    </tr>\n",
              "  </tbody>\n",
              "</table>\n",
              "</div>"
            ],
            "text/plain": [
              "               null_values  number_of_unique values\n",
              "Customer_Name            0                     2798\n",
              "Gender                 118                        2\n",
              "Salary                 131                    25142\n",
              "Area                    49                        3\n",
              "Sub_category            44                       12\n",
              "Brand                    0                      156\n",
              "Price                    0                      476\n",
              "Quantity                 0                        6\n",
              "Order Date               0                     1434\n",
              "Recency                  0                       12\n",
              "History                  0                    19027\n",
              "Offer                    0                       85\n",
              "Profit                   0                     7287"
            ]
          },
          "metadata": {
            "tags": []
          },
          "execution_count": 7
        }
      ]
    },
    {
      "cell_type": "code",
      "metadata": {
        "colab": {
          "base_uri": "https://localhost:8080/"
        },
        "id": "_y6oIFp7tlcT",
        "outputId": "c503ebee-0384-4d2b-b8bd-196e52da774d"
      },
      "source": [
        "dataset.dtypes   #datatype of columns"
      ],
      "execution_count": null,
      "outputs": [
        {
          "output_type": "execute_result",
          "data": {
            "text/plain": [
              "Customer_Name     object\n",
              "Gender            object\n",
              "Salary           float64\n",
              "Area              object\n",
              "Sub_category      object\n",
              "Brand             object\n",
              "Price              int64\n",
              "Quantity           int64\n",
              "Order Date        object\n",
              "Recency            int64\n",
              "History          float64\n",
              "Offer             object\n",
              "Profit           float64\n",
              "dtype: object"
            ]
          },
          "metadata": {
            "tags": []
          },
          "execution_count": 8
        }
      ]
    },
    {
      "cell_type": "markdown",
      "metadata": {
        "id": "muyPUeDQvoIH"
      },
      "source": [
        "#####**Describe Function is useful to get information about the categorical as well as the continous variable mainly about the continous variables.**"
      ]
    },
    {
      "cell_type": "code",
      "metadata": {
        "colab": {
          "base_uri": "https://localhost:8080/",
          "height": 296
        },
        "id": "lIne3Liet_3y",
        "outputId": "d1242e3d-a25d-47eb-afb8-60d03636cb3f"
      },
      "source": [
        "dataset.describe()   "
      ],
      "execution_count": null,
      "outputs": [
        {
          "output_type": "execute_result",
          "data": {
            "text/html": [
              "<div>\n",
              "<style scoped>\n",
              "    .dataframe tbody tr th:only-of-type {\n",
              "        vertical-align: middle;\n",
              "    }\n",
              "\n",
              "    .dataframe tbody tr th {\n",
              "        vertical-align: top;\n",
              "    }\n",
              "\n",
              "    .dataframe thead th {\n",
              "        text-align: right;\n",
              "    }\n",
              "</style>\n",
              "<table border=\"1\" class=\"dataframe\">\n",
              "  <thead>\n",
              "    <tr style=\"text-align: right;\">\n",
              "      <th></th>\n",
              "      <th>Salary</th>\n",
              "      <th>Price</th>\n",
              "      <th>Quantity</th>\n",
              "      <th>Recency</th>\n",
              "      <th>History</th>\n",
              "      <th>Profit</th>\n",
              "    </tr>\n",
              "  </thead>\n",
              "  <tbody>\n",
              "    <tr>\n",
              "      <th>count</th>\n",
              "      <td>25979.000000</td>\n",
              "      <td>26110.000000</td>\n",
              "      <td>26110.000000</td>\n",
              "      <td>26110.000000</td>\n",
              "      <td>26110.000000</td>\n",
              "      <td>26110.000000</td>\n",
              "    </tr>\n",
              "    <tr>\n",
              "      <th>mean</th>\n",
              "      <td>41128.062901</td>\n",
              "      <td>1506.991038</td>\n",
              "      <td>1.284604</td>\n",
              "      <td>5.780276</td>\n",
              "      <td>14378.126622</td>\n",
              "      <td>28.086106</td>\n",
              "    </tr>\n",
              "    <tr>\n",
              "      <th>std</th>\n",
              "      <td>24248.827964</td>\n",
              "      <td>962.817694</td>\n",
              "      <td>0.631137</td>\n",
              "      <td>3.518452</td>\n",
              "      <td>14729.495218</td>\n",
              "      <td>226.539238</td>\n",
              "    </tr>\n",
              "    <tr>\n",
              "      <th>min</th>\n",
              "      <td>500.000000</td>\n",
              "      <td>199.000000</td>\n",
              "      <td>1.000000</td>\n",
              "      <td>1.000000</td>\n",
              "      <td>0.000000</td>\n",
              "      <td>-6599.978000</td>\n",
              "    </tr>\n",
              "    <tr>\n",
              "      <th>25%</th>\n",
              "      <td>22795.775000</td>\n",
              "      <td>899.000000</td>\n",
              "      <td>1.000000</td>\n",
              "      <td>2.000000</td>\n",
              "      <td>4030.250000</td>\n",
              "      <td>1.764000</td>\n",
              "    </tr>\n",
              "    <tr>\n",
              "      <th>50%</th>\n",
              "      <td>42242.200000</td>\n",
              "      <td>1299.000000</td>\n",
              "      <td>1.000000</td>\n",
              "      <td>6.000000</td>\n",
              "      <td>9672.600000</td>\n",
              "      <td>8.674400</td>\n",
              "    </tr>\n",
              "    <tr>\n",
              "      <th>75%</th>\n",
              "      <td>58337.465000</td>\n",
              "      <td>1800.000000</td>\n",
              "      <td>1.000000</td>\n",
              "      <td>9.000000</td>\n",
              "      <td>19746.300000</td>\n",
              "      <td>29.302000</td>\n",
              "    </tr>\n",
              "    <tr>\n",
              "      <th>max</th>\n",
              "      <td>218157.880000</td>\n",
              "      <td>12999.000000</td>\n",
              "      <td>6.000000</td>\n",
              "      <td>12.000000</td>\n",
              "      <td>152392.800000</td>\n",
              "      <td>8399.976000</td>\n",
              "    </tr>\n",
              "  </tbody>\n",
              "</table>\n",
              "</div>"
            ],
            "text/plain": [
              "              Salary         Price  ...        History        Profit\n",
              "count   25979.000000  26110.000000  ...   26110.000000  26110.000000\n",
              "mean    41128.062901   1506.991038  ...   14378.126622     28.086106\n",
              "std     24248.827964    962.817694  ...   14729.495218    226.539238\n",
              "min       500.000000    199.000000  ...       0.000000  -6599.978000\n",
              "25%     22795.775000    899.000000  ...    4030.250000      1.764000\n",
              "50%     42242.200000   1299.000000  ...    9672.600000      8.674400\n",
              "75%     58337.465000   1800.000000  ...   19746.300000     29.302000\n",
              "max    218157.880000  12999.000000  ...  152392.800000   8399.976000\n",
              "\n",
              "[8 rows x 6 columns]"
            ]
          },
          "metadata": {
            "tags": []
          },
          "execution_count": 9
        }
      ]
    },
    {
      "cell_type": "code",
      "metadata": {
        "colab": {
          "base_uri": "https://localhost:8080/",
          "height": 613
        },
        "id": "b--xT2RiBjgs",
        "outputId": "5a407fb4-917b-41fb-e5cb-62264e45dd86"
      },
      "source": [
        "#Outlier detection using boxplot in Salary and History\n",
        "num_cols = ['Salary','History']\n",
        "plt.figure(figsize=(18,9))\n",
        "dataset[num_cols].boxplot()\n",
        "plt.title(\"Outlier Detection in Salary and History\", fontsize=18)\n",
        "plt.show()"
      ],
      "execution_count": null,
      "outputs": [
        {
          "output_type": "stream",
          "text": [
            "/usr/local/lib/python3.7/dist-packages/numpy/core/_asarray.py:83: VisibleDeprecationWarning: Creating an ndarray from ragged nested sequences (which is a list-or-tuple of lists-or-tuples-or ndarrays with different lengths or shapes) is deprecated. If you meant to do this, you must specify 'dtype=object' when creating the ndarray\n",
            "  return array(a, dtype, copy=False, order=order)\n"
          ],
          "name": "stderr"
        },
        {
          "output_type": "display_data",
          "data": {
            "image/png": "[encoded data removed]",
            "text/plain": [
              "<Figure size 1296x648 with 1 Axes>"
            ]
          },
          "metadata": {
            "tags": [],
            "needs_background": "light"
          }
        }
      ]
    },
    {
      "cell_type": "code",
      "metadata": {
        "id": "Z4WDmkxzNFGc"
      },
      "source": [
        "#Replacing outliers in Salary with the mean Salary value\n",
        "dataset.loc[dataset['Salary'] > 110000,'Salary']=np.mean(dataset['Salary'])"
      ],
      "execution_count": null,
      "outputs": []
    },
    {
      "cell_type": "code",
      "metadata": {
        "id": "9fWGSlBYN-_9"
      },
      "source": [
        "#Removing the outliers from the dataset\n",
        "dataset=dataset[dataset['History']<40000]"
      ],
      "execution_count": null,
      "outputs": []
    },
    {
      "cell_type": "code",
      "metadata": {
        "colab": {
          "base_uri": "https://localhost:8080/",
          "height": 613
        },
        "id": "5Ul41guktvVo",
        "outputId": "950df847-ba0c-4ae7-c521-4752dc0bbfb5"
      },
      "source": [
        "num_cols = ['Salary','History']\n",
        "plt.figure(figsize=(18,9))\n",
        "dataset[num_cols].boxplot()\n",
        "plt.title(\"Handling outlier in Salary and History\", fontsize=18)\n",
        "plt.show()"
      ],
      "execution_count": null,
      "outputs": [
        {
          "output_type": "stream",
          "text": [
            "/usr/local/lib/python3.7/dist-packages/numpy/core/_asarray.py:83: VisibleDeprecationWarning: Creating an ndarray from ragged nested sequences (which is a list-or-tuple of lists-or-tuples-or ndarrays with different lengths or shapes) is deprecated. If you meant to do this, you must specify 'dtype=object' when creating the ndarray\n",
            "  return array(a, dtype, copy=False, order=order)\n"
          ],
          "name": "stderr"
        },
        {
          "output_type": "display_data",
          "data": {
            "image/png": "[encoded data removed]",
            "text/plain": [
              "<Figure size 1296x648 with 1 Axes>"
            ]
          },
          "metadata": {
            "tags": [],
            "needs_background": "light"
          }
        }
      ]
    },
    {
      "cell_type": "code",
      "metadata": {
        "colab": {
          "base_uri": "https://localhost:8080/",
          "height": 354
        },
        "id": "Us2pKyps25HJ",
        "outputId": "bea02c1f-2cd3-4034-a32d-d68fea2f7502"
      },
      "source": [
        "#Outlier detection using boxplot in Recency and Price\n",
        "fig = plt.figure(figsize=(12,5))\n",
        "ax1=fig.add_subplot(121)\n",
        "ax2=fig.add_subplot(122)\n",
        "\n",
        "dataset.boxplot(column=['Recency'],ax=ax1)\n",
        "plt.title(\"Boxplot for Recency\")\n",
        "\n",
        "dataset.boxplot(column=['Price'],ax=ax2)\n",
        "plt.title(\"Boxplot for Price\")\n"
      ],
      "execution_count": null,
      "outputs": [
        {
          "output_type": "execute_result",
          "data": {
            "text/plain": [
              "Text(0.5, 1.0, 'Boxplot for Price')"
            ]
          },
          "metadata": {
            "tags": []
          },
          "execution_count": 14
        },
        {
          "output_type": "display_data",
          "data": {
            "image/png": "[encoded data removed]",
            "text/plain": [
              "<Figure size 864x360 with 2 Axes>"
            ]
          },
          "metadata": {
            "tags": [],
            "needs_background": "light"
          }
        }
      ]
    },
    {
      "cell_type": "code",
      "metadata": {
        "id": "j1ANP3BdyDAR"
      },
      "source": [
        "#Handling Outlier for Price\n",
        "q1= 899.000000\n",
        "q3= 1800.000000\n",
        "IQR = q3 - q1\n",
        "lower_limit = q1 - 1.5 * IQR\n",
        "upper_limit = q3 + 1.5 * IQR"
      ],
      "execution_count": null,
      "outputs": []
    },
    {
      "cell_type": "code",
      "metadata": {
        "id": "Qbl9nZkkyNpT"
      },
      "source": [
        "dataset=dataset[(dataset['Price'] > lower_limit) & (dataset['Price'] < upper_limit)]"
      ],
      "execution_count": null,
      "outputs": []
    },
    {
      "cell_type": "code",
      "metadata": {
        "colab": {
          "base_uri": "https://localhost:8080/",
          "height": 354
        },
        "id": "trAcRHQzU6mJ",
        "outputId": "357a6e4f-3ab1-4245-8abc-4d934523581b"
      },
      "source": [
        "fig = plt.figure(figsize=(12,5))\n",
        "ax1=fig.add_subplot(121)\n",
        "ax2=fig.add_subplot(122)\n",
        "\n",
        "dataset.boxplot(column=['Recency'],ax=ax1)\n",
        "plt.title(\"Handling outlier in Recency\")\n",
        "\n",
        "dataset.boxplot(column=['Price'],ax=ax2)\n",
        "plt.title(\"Handling outlier in Price\")"
      ],
      "execution_count": null,
      "outputs": [
        {
          "output_type": "execute_result",
          "data": {
            "text/plain": [
              "Text(0.5, 1.0, 'Handling outlier in Price')"
            ]
          },
          "metadata": {
            "tags": []
          },
          "execution_count": 17
        },
        {
          "output_type": "display_data",
          "data": {
            "image/png": "[encoded data removed]",
            "text/plain": [
              "<Figure size 864x360 with 2 Axes>"
            ]
          },
          "metadata": {
            "tags": [],
            "needs_background": "light"
          }
        }
      ]
    },
    {
      "cell_type": "code",
      "metadata": {
        "colab": {
          "base_uri": "https://localhost:8080/",
          "height": 479
        },
        "id": "m9qt8HEDyD0x",
        "outputId": "15f1a7d3-c07f-4ffa-c508-37b19d8d0f65"
      },
      "source": [
        "# Histogram for continuous variable\n",
        "fig = plt.figure(figsize=(26,7))\n",
        "ax1=fig.add_subplot(131)\n",
        "plt.xlabel('Salary',fontsize=12)\n",
        "plt.ylabel('Frequency',fontsize=12)\n",
        "ax2=fig.add_subplot(132)\n",
        "plt.xlabel('History',fontsize=12)\n",
        "plt.ylabel('Frequency',fontsize=12)\n",
        "ax3=fig.add_subplot(133)\n",
        "plt.xlabel('Price',fontsize=12)\n",
        "plt.ylabel('Frequency',fontsize=12)\n",
        "\n",
        "\n",
        "sns.histplot(data=dataset, x='Salary',color='red',ax=ax1,bins=100).set(title=\"Histogram for Salary\")\n",
        "sns.histplot(data=dataset, x='History',color='red',ax=ax2,bins=100).set(title=\"Histogram for History\")\n",
        "sns.histplot(data=dataset, x='Price',color='red',ax=ax3,bins=100).set(title=\"Histogram for Price\")"
      ],
      "execution_count": null,
      "outputs": [
        {
          "output_type": "execute_result",
          "data": {
            "text/plain": [
              "[Text(0.5, 1.0, 'Histogram for Price')]"
            ]
          },
          "metadata": {
            "tags": []
          },
          "execution_count": 18
        },
        {
          "output_type": "display_data",
          "data": {
            "image/png": "[encoded data removed]",
            "text/plain": [
              "<Figure size 1872x504 with 3 Axes>"
            ]
          },
          "metadata": {
            "tags": [],
            "needs_background": "light"
          }
        }
      ]
    },
    {
      "cell_type": "code",
      "metadata": {
        "colab": {
          "base_uri": "https://localhost:8080/",
          "height": 485
        },
        "id": "hHKgNRp7RjbF",
        "outputId": "1b1c0d7c-82bb-4bcd-b64e-021125ffcdb0"
      },
      "source": [
        "#Above we can see that the Salary is left skewed so we try to make it symmetrical.\n",
        "fig = plt.figure(figsize=(26,7))\n",
        "plt.xlabel('Salary',fontsize=15)\n",
        "plt.ylabel('Frequency',fontsize=15)\n",
        "plt.title(\"Histogram for Salary\",fontsize=20)\n",
        "sns.histplot(data=dataset, x=(dataset['Salary'].loc[dataset['Salary']<100000]),color='red',bins=150,kde=True)"
      ],
      "execution_count": null,
      "outputs": [
        {
          "output_type": "execute_result",
          "data": {
            "text/plain": [
              "<matplotlib.axes._subplots.AxesSubplot at 0x7f38d2abca50>"
            ]
          },
          "metadata": {
            "tags": []
          },
          "execution_count": 19
        },
        {
          "output_type": "display_data",
          "data": {
            "image/png": "[encoded data removed]",
            "text/plain": [
              "<Figure size 1872x504 with 1 Axes>"
            ]
          },
          "metadata": {
            "tags": [],
            "needs_background": "light"
          }
        }
      ]
    },
    {
      "cell_type": "code",
      "metadata": {
        "colab": {
          "base_uri": "https://localhost:8080/",
          "height": 486
        },
        "id": "LVKEkk8p4ByN",
        "outputId": "f6d6792a-a7b0-433e-9bf3-99aa5ac98e13"
      },
      "source": [
        "#Above we can see that the History is right skewed so we try to make it symmetrical.\n",
        "fig = plt.figure(figsize=(20,7))\n",
        "plt.xlabel('History',fontsize=15)\n",
        "plt.ylabel('Frequency',fontsize=15)\n",
        "plt.title(\"Histogram for History\",fontsize=20)\n",
        "sns.histplot(data=dataset, x=np.power(dataset['History'],1/3),bins=150,color='red',kde=True)"
      ],
      "execution_count": null,
      "outputs": [
        {
          "output_type": "execute_result",
          "data": {
            "text/plain": [
              "<matplotlib.axes._subplots.AxesSubplot at 0x7f38c7eace50>"
            ]
          },
          "metadata": {
            "tags": []
          },
          "execution_count": 20
        },
        {
          "output_type": "display_data",
          "data": {
            "image/png": "[encoded data removed]",
            "text/plain": [
              "<Figure size 1440x504 with 1 Axes>"
            ]
          },
          "metadata": {
            "tags": [],
            "needs_background": "light"
          }
        }
      ]
    },
    {
      "cell_type": "code",
      "metadata": {
        "colab": {
          "base_uri": "https://localhost:8080/"
        },
        "id": "vs6vhPqTCFYE",
        "outputId": "42d4b1af-4c50-4a6c-96ed-73eeaba89117"
      },
      "source": [
        "#Creating frequency tablee for categorical variable for sub_category\n",
        "dataset['Sub_category'].value_counts()"
      ],
      "execution_count": null,
      "outputs": [
        {
          "output_type": "execute_result",
          "data": {
            "text/plain": [
              "Casual Cloths       12867\n",
              "Sports Cloths        2941\n",
              "Suits                1990\n",
              "Men's Footwear       1512\n",
              "Women's Footwear     1360\n",
              "Slippers             1050\n",
              "Skin Care             940\n",
              "Face Care             120\n",
              "Hair Care             115\n",
              "Perfumes               94\n",
              "Luggage Bag            75\n",
              "Shopping Bag           63\n",
              "Name: Sub_category, dtype: int64"
            ]
          },
          "metadata": {
            "tags": []
          },
          "execution_count": 21
        }
      ]
    },
    {
      "cell_type": "code",
      "metadata": {
        "colab": {
          "base_uri": "https://localhost:8080/",
          "height": 487
        },
        "id": "W5Pa7p-WsLij",
        "outputId": "e8d382f6-bb52-493b-94cc-802688cabce1"
      },
      "source": [
        "#Creating countplot for sub_category\n",
        "fig = plt.figure(figsize=(20,7))\n",
        "plt.title('Countplot for Sub_category',fontsize=17)\n",
        "plt.xlabel('Sub_category',fontsize=15)\n",
        "plt.ylabel('Count',fontsize=15)\n",
        "sns.countplot(x='Sub_category',data=dataset)"
      ],
      "execution_count": null,
      "outputs": [
        {
          "output_type": "execute_result",
          "data": {
            "text/plain": [
              "<matplotlib.axes._subplots.AxesSubplot at 0x7f38c7c5a510>"
            ]
          },
          "metadata": {
            "tags": []
          },
          "execution_count": 22
        },
        {
          "output_type": "display_data",
          "data": {
            "image/png": "[encoded data removed]",
            "text/plain": [
              "<Figure size 1440x504 with 1 Axes>"
            ]
          },
          "metadata": {
            "tags": [],
            "needs_background": "light"
          }
        }
      ]
    },
    {
      "cell_type": "code",
      "metadata": {
        "colab": {
          "base_uri": "https://localhost:8080/"
        },
        "id": "teyVM1zhvH_Q",
        "outputId": "841b2b9c-f434-43ed-ddb3-dd8ada3e6b8e"
      },
      "source": [
        "#Creating frequency tablee for categorical variable for area\n",
        "dataset['Area'].value_counts()"
      ],
      "execution_count": null,
      "outputs": [
        {
          "output_type": "execute_result",
          "data": {
            "text/plain": [
              "Surburban    10424\n",
              "Urban         9273\n",
              "Rural         3427\n",
              "Name: Area, dtype: int64"
            ]
          },
          "metadata": {
            "tags": []
          },
          "execution_count": 23
        }
      ]
    },
    {
      "cell_type": "code",
      "metadata": {
        "colab": {
          "base_uri": "https://localhost:8080/",
          "height": 483
        },
        "id": "Js6tZanNzl-b",
        "outputId": "48817ebb-1e0a-4b3b-85dd-b13e12d2bdef"
      },
      "source": [
        "#Creating countplot for area\n",
        "fig = plt.figure(figsize=(15,7))\n",
        "plt.title('Countplot for Area',fontsize=15)\n",
        "plt.xlabel('Area',fontsize=15)\n",
        "plt.ylabel('Count',fontsize=15)\n",
        "sns.countplot(x='Area',data=dataset,palette='rocket')"
      ],
      "execution_count": null,
      "outputs": [
        {
          "output_type": "execute_result",
          "data": {
            "text/plain": [
              "<matplotlib.axes._subplots.AxesSubplot at 0x7f38d298ced0>"
            ]
          },
          "metadata": {
            "tags": []
          },
          "execution_count": 24
        },
        {
          "output_type": "display_data",
          "data": {
            "image/png": "[encoded data removed]",
            "text/plain": [
              "<Figure size 1080x504 with 1 Axes>"
            ]
          },
          "metadata": {
            "tags": [],
            "needs_background": "light"
          }
        }
      ]
    },
    {
      "cell_type": "code",
      "metadata": {
        "colab": {
          "base_uri": "https://localhost:8080/"
        },
        "id": "Ve-G0oKdzup1",
        "outputId": "eef93482-3fa5-49b5-d896-be98e5215851"
      },
      "source": [
        "#Creating frequency tablee for categorical variable for gender\n",
        "dataset['Brand'].value_counts()"
      ],
      "execution_count": null,
      "outputs": [
        {
          "output_type": "execute_result",
          "data": {
            "text/plain": [
              "ARBO            965\n",
              "Ecko_Unl        874\n",
              "Free_Authori    814\n",
              "REEB            728\n",
              "True_Bl         675\n",
              "               ... \n",
              "LIVST            18\n",
              "CLOTH            18\n",
              "MODERN_CR        18\n",
              "G                10\n",
              "Sherr             2\n",
              "Name: Brand, Length: 156, dtype: int64"
            ]
          },
          "metadata": {
            "tags": []
          },
          "execution_count": 25
        }
      ]
    },
    {
      "cell_type": "code",
      "metadata": {
        "colab": {
          "base_uri": "https://localhost:8080/",
          "height": 494
        },
        "id": "tCR8rkp42JlJ",
        "outputId": "d789ae56-4037-4097-bfe8-7067667552f3"
      },
      "source": [
        "#Creating countplot for gender\n",
        "fig = plt.figure(figsize=(30,8))\n",
        "plt.title('Countplot for Brand',fontsize=15)\n",
        "plt.xlabel('Brand',fontsize=15)\n",
        "plt.ylabel('Count',fontsize=15)\n",
        "# sns.countplot(x='Brand',data=dataset)\n",
        "sns.countplot(x='Brand',data=dataset,order=pd.value_counts(dataset['Brand']).iloc[:25].index)"
      ],
      "execution_count": null,
      "outputs": [
        {
          "output_type": "execute_result",
          "data": {
            "text/plain": [
              "<matplotlib.axes._subplots.AxesSubplot at 0x7f38d28ac490>"
            ]
          },
          "metadata": {
            "tags": []
          },
          "execution_count": 26
        },
        {
          "output_type": "display_data",
          "data": {
            "image/png": "[encoded data removed]",
            "text/plain": [
              "<Figure size 2160x576 with 1 Axes>"
            ]
          },
          "metadata": {
            "tags": [],
            "needs_background": "light"
          }
        }
      ]
    },
    {
      "cell_type": "code",
      "metadata": {
        "colab": {
          "base_uri": "https://localhost:8080/",
          "height": 519
        },
        "id": "Ec4T6Y-WMk1h",
        "outputId": "eca8dfd6-dc41-43e0-ccd9-c9808adf3e74"
      },
      "source": [
        "#Plotting profit change with price\n",
        "plt.figure(figsize=(12,7))\n",
        "plt.title(\"Scatter plot of Profit change with Price\",fontsize=15)\n",
        "plt.xlabel('Price',fontsize=13)\n",
        "plt.ylabel('Proft',fontsize=13)\n",
        "sns.scatterplot(dataset.Price, dataset.Profit, hue=dataset.Profit, s=100)\n",
        "plt.show()"
      ],
      "execution_count": null,
      "outputs": [
        {
          "output_type": "stream",
          "text": [
            "/usr/local/lib/python3.7/dist-packages/seaborn/_decorators.py:43: FutureWarning: Pass the following variables as keyword args: x, y. From version 0.12, the only valid positional argument will be `data`, and passing other arguments without an explicit keyword will result in an error or misinterpretation.\n",
            "  FutureWarning\n"
          ],
          "name": "stderr"
        },
        {
          "output_type": "display_data",
          "data": {
            "image/png": "[encoded data removed]",
            "text/plain": [
              "<Figure size 864x504 with 1 Axes>"
            ]
          },
          "metadata": {
            "tags": [],
            "needs_background": "light"
          }
        }
      ]
    },
    {
      "cell_type": "code",
      "metadata": {
        "id": "3NSONLl64n00"
      },
      "source": [
        "#Replacing outliers in profit with the mean profit value\n",
        "dataset.loc[(dataset['Profit']>8000) | (dataset['Profit']<-6000),'Profit']=np.mean(dataset['Profit'])"
      ],
      "execution_count": null,
      "outputs": []
    },
    {
      "cell_type": "code",
      "metadata": {
        "colab": {
          "base_uri": "https://localhost:8080/",
          "height": 519
        },
        "id": "6pxdHiV8AmsU",
        "outputId": "7b5474cb-0f3a-466e-ee1d-d77e7124d341"
      },
      "source": [
        "#Handling outlier of profit change with price\n",
        "plt.figure(figsize=(12,7))\n",
        "plt.title(\"Handling outlier of Profit change with Price\",fontsize=15)\n",
        "plt.xlabel('Price',fontsize=13)\n",
        "plt.ylabel('Proft',fontsize=13)\n",
        "sns.scatterplot(dataset.Price, dataset.Profit, hue=dataset.Profit, s=100)\n",
        "plt.show()"
      ],
      "execution_count": null,
      "outputs": [
        {
          "output_type": "stream",
          "text": [
            "/usr/local/lib/python3.7/dist-packages/seaborn/_decorators.py:43: FutureWarning: Pass the following variables as keyword args: x, y. From version 0.12, the only valid positional argument will be `data`, and passing other arguments without an explicit keyword will result in an error or misinterpretation.\n",
            "  FutureWarning\n"
          ],
          "name": "stderr"
        },
        {
          "output_type": "display_data",
          "data": {
            "image/png": "[encoded data removed]",
            "text/plain": [
              "<Figure size 864x504 with 1 Axes>"
            ]
          },
          "metadata": {
            "tags": [],
            "needs_background": "light"
          }
        }
      ]
    },
    {
      "cell_type": "code",
      "metadata": {
        "colab": {
          "base_uri": "https://localhost:8080/",
          "height": 420
        },
        "id": "Ttzab485QNwm",
        "outputId": "0813ad2f-3026-4053-d575-707eb88918d9"
      },
      "source": [
        "#Groupby sub_category with profit\n",
        "total=dataset.groupby('Sub_category')['Profit'].mean().reset_index() \n",
        "total"
      ],
      "execution_count": null,
      "outputs": [
        {
          "output_type": "execute_result",
          "data": {
            "text/html": [
              "<div>\n",
              "<style scoped>\n",
              "    .dataframe tbody tr th:only-of-type {\n",
              "        vertical-align: middle;\n",
              "    }\n",
              "\n",
              "    .dataframe tbody tr th {\n",
              "        vertical-align: top;\n",
              "    }\n",
              "\n",
              "    .dataframe thead th {\n",
              "        text-align: right;\n",
              "    }\n",
              "</style>\n",
              "<table border=\"1\" class=\"dataframe\">\n",
              "  <thead>\n",
              "    <tr style=\"text-align: right;\">\n",
              "      <th></th>\n",
              "      <th>Sub_category</th>\n",
              "      <th>Profit</th>\n",
              "    </tr>\n",
              "  </thead>\n",
              "  <tbody>\n",
              "    <tr>\n",
              "      <th>0</th>\n",
              "      <td>Casual Cloths</td>\n",
              "      <td>26.851102</td>\n",
              "    </tr>\n",
              "    <tr>\n",
              "      <th>1</th>\n",
              "      <td>Face Care</td>\n",
              "      <td>-0.570385</td>\n",
              "    </tr>\n",
              "    <tr>\n",
              "      <th>2</th>\n",
              "      <td>Hair Care</td>\n",
              "      <td>40.058276</td>\n",
              "    </tr>\n",
              "    <tr>\n",
              "      <th>3</th>\n",
              "      <td>Luggage Bag</td>\n",
              "      <td>7.877181</td>\n",
              "    </tr>\n",
              "    <tr>\n",
              "      <th>4</th>\n",
              "      <td>Men's Footwear</td>\n",
              "      <td>32.178167</td>\n",
              "    </tr>\n",
              "    <tr>\n",
              "      <th>5</th>\n",
              "      <td>Perfumes</td>\n",
              "      <td>35.273333</td>\n",
              "    </tr>\n",
              "    <tr>\n",
              "      <th>6</th>\n",
              "      <td>Shopping Bag</td>\n",
              "      <td>44.437159</td>\n",
              "    </tr>\n",
              "    <tr>\n",
              "      <th>7</th>\n",
              "      <td>Skin Care</td>\n",
              "      <td>45.252489</td>\n",
              "    </tr>\n",
              "    <tr>\n",
              "      <th>8</th>\n",
              "      <td>Slippers</td>\n",
              "      <td>32.887750</td>\n",
              "    </tr>\n",
              "    <tr>\n",
              "      <th>9</th>\n",
              "      <td>Sports Cloths</td>\n",
              "      <td>26.930234</td>\n",
              "    </tr>\n",
              "    <tr>\n",
              "      <th>10</th>\n",
              "      <td>Suits</td>\n",
              "      <td>26.101929</td>\n",
              "    </tr>\n",
              "    <tr>\n",
              "      <th>11</th>\n",
              "      <td>Women's Footwear</td>\n",
              "      <td>39.743971</td>\n",
              "    </tr>\n",
              "  </tbody>\n",
              "</table>\n",
              "</div>"
            ],
            "text/plain": [
              "        Sub_category     Profit\n",
              "0      Casual Cloths  26.851102\n",
              "1          Face Care  -0.570385\n",
              "2          Hair Care  40.058276\n",
              "3        Luggage Bag   7.877181\n",
              "4     Men's Footwear  32.178167\n",
              "5           Perfumes  35.273333\n",
              "6       Shopping Bag  44.437159\n",
              "7          Skin Care  45.252489\n",
              "8           Slippers  32.887750\n",
              "9      Sports Cloths  26.930234\n",
              "10             Suits  26.101929\n",
              "11  Women's Footwear  39.743971"
            ]
          },
          "metadata": {
            "tags": []
          },
          "execution_count": 30
        }
      ]
    },
    {
      "cell_type": "code",
      "metadata": {
        "colab": {
          "base_uri": "https://localhost:8080/",
          "height": 481
        },
        "id": "VYBNrTTWSF88",
        "outputId": "50511ecb-2cec-4a4c-d1b7-0dba9fdba4bd"
      },
      "source": [
        "#Barplot between sub_category and profit\n",
        "plt.figure(figsize=(18,7))\n",
        "plt.title(\"Barplot between sub_category and Profit\",fontsize=15)\n",
        "plt.xlabel('Sub_category',fontsize=13)\n",
        "plt.ylabel('Profit',fontsize=13)\n",
        "sns.barplot(x='Sub_category',y='Profit',data=total,palette=\"viridis\")"
      ],
      "execution_count": null,
      "outputs": [
        {
          "output_type": "execute_result",
          "data": {
            "text/plain": [
              "<matplotlib.axes._subplots.AxesSubplot at 0x7f38c79532d0>"
            ]
          },
          "metadata": {
            "tags": []
          },
          "execution_count": 31
        },
        {
          "output_type": "display_data",
          "data": {
            "image/png": "[encoded data removed]",
            "text/plain": [
              "<Figure size 1296x504 with 1 Axes>"
            ]
          },
          "metadata": {
            "tags": [],
            "needs_background": "light"
          }
        }
      ]
    },
    {
      "cell_type": "code",
      "metadata": {
        "colab": {
          "base_uri": "https://localhost:8080/",
          "height": 533
        },
        "id": "xW7lIMvEUoKk",
        "outputId": "8233966d-602a-46c3-bdc5-547669fb4fca"
      },
      "source": [
        "#Two-way-table between sub_category and brand\n",
        "pd.crosstab(dataset['Sub_category'],dataset['Brand'])"
      ],
      "execution_count": null,
      "outputs": [
        {
          "output_type": "execute_result",
          "data": {
            "text/html": [
              "<div>\n",
              "<style scoped>\n",
              "    .dataframe tbody tr th:only-of-type {\n",
              "        vertical-align: middle;\n",
              "    }\n",
              "\n",
              "    .dataframe tbody tr th {\n",
              "        vertical-align: top;\n",
              "    }\n",
              "\n",
              "    .dataframe thead th {\n",
              "        text-align: right;\n",
              "    }\n",
              "</style>\n",
              "<table border=\"1\" class=\"dataframe\">\n",
              "  <thead>\n",
              "    <tr style=\"text-align: right;\">\n",
              "      <th>Brand</th>\n",
              "      <th>A</th>\n",
              "      <th>ABC_ANY_BUDY_CLE</th>\n",
              "      <th>ARBO</th>\n",
              "      <th>AS_Tre</th>\n",
              "      <th>ATHL</th>\n",
              "      <th>ATTIITU</th>\n",
              "      <th>AXMA</th>\n",
              "      <th>A_J_Styl</th>\n",
              "      <th>Adam_Park</th>\n",
              "      <th>Amp</th>\n",
              "      <th>Asa</th>\n",
              "      <th>Bindass_Bo</th>\n",
              "      <th>BlackSN</th>\n",
              "      <th>Black_Beat</th>\n",
              "      <th>Black_Bull_Design_Stud</th>\n",
              "      <th>BlueSha</th>\n",
              "      <th>Bone</th>\n",
              "      <th>Bonnevil</th>\n",
              "      <th>Breakboun</th>\n",
              "      <th>Bumm</th>\n",
              "      <th>Byford_by_Pantaloo</th>\n",
              "      <th>CA</th>\n",
              "      <th>CANTAB</th>\n",
              "      <th>CLOTH</th>\n",
              "      <th>Cher</th>\n",
              "      <th>Clo</th>\n",
              "      <th>Cots</th>\n",
              "      <th>Crocks_Cl</th>\n",
              "      <th>CupidSto</th>\n",
              "      <th>DISCOUNT_OUTL</th>\n",
              "      <th>Dudli</th>\n",
              "      <th>East_I</th>\n",
              "      <th>Ecko_Unl</th>\n",
              "      <th>EverLa</th>\n",
              "      <th>FASHION_WOU</th>\n",
              "      <th>FLEXIM</th>\n",
              "      <th>FOOT_F</th>\n",
              "      <th>FOREVER_YOU</th>\n",
              "      <th>Fairdea</th>\n",
              "      <th>FancyW</th>\n",
              "      <th>...</th>\n",
              "      <th>ShreeR</th>\n",
              "      <th>Simon_Rob</th>\n",
              "      <th>Sketch_Vib</th>\n",
              "      <th>Solid_Styl</th>\n",
              "      <th>Steenb</th>\n",
              "      <th>Styleska</th>\n",
              "      <th>Szto</th>\n",
              "      <th>T10_Spor</th>\n",
              "      <th>TEE_BUD</th>\n",
              "      <th>TOM_BU</th>\n",
              "      <th>TeeMoo</th>\n",
              "      <th>Tees_Collecti</th>\n",
              "      <th>The_Arch</th>\n",
              "      <th>The_HOLLAND</th>\n",
              "      <th>True_Bl</th>\n",
              "      <th>Truemo</th>\n",
              "      <th>US_POLO_ASS</th>\n",
              "      <th>US_POLO_Associati</th>\n",
              "      <th>US_Polo_As</th>\n",
              "      <th>Uber_Urb</th>\n",
              "      <th>Urban_D</th>\n",
              "      <th>V</th>\n",
              "      <th>VARTe</th>\n",
              "      <th>VOXA</th>\n",
              "      <th>Vector</th>\n",
              "      <th>Wab</th>\n",
              "      <th>Welwe</th>\n",
              "      <th>Wildst</th>\n",
              "      <th>Xi</th>\n",
              "      <th>York</th>\n",
              "      <th>ZACK_Fo</th>\n",
              "      <th>adidas_Origina</th>\n",
              "      <th>allan_pet</th>\n",
              "      <th>chawla_fashi</th>\n",
              "      <th>dream_o</th>\n",
              "      <th>limited_colou</th>\n",
              "      <th>rockha</th>\n",
              "      <th>saltla</th>\n",
              "      <th>vims_rai</th>\n",
              "      <th>yellowvib</th>\n",
              "    </tr>\n",
              "    <tr>\n",
              "      <th>Sub_category</th>\n",
              "      <th></th>\n",
              "      <th></th>\n",
              "      <th></th>\n",
              "      <th></th>\n",
              "      <th></th>\n",
              "      <th></th>\n",
              "      <th></th>\n",
              "      <th></th>\n",
              "      <th></th>\n",
              "      <th></th>\n",
              "      <th></th>\n",
              "      <th></th>\n",
              "      <th></th>\n",
              "      <th></th>\n",
              "      <th></th>\n",
              "      <th></th>\n",
              "      <th></th>\n",
              "      <th></th>\n",
              "      <th></th>\n",
              "      <th></th>\n",
              "      <th></th>\n",
              "      <th></th>\n",
              "      <th></th>\n",
              "      <th></th>\n",
              "      <th></th>\n",
              "      <th></th>\n",
              "      <th></th>\n",
              "      <th></th>\n",
              "      <th></th>\n",
              "      <th></th>\n",
              "      <th></th>\n",
              "      <th></th>\n",
              "      <th></th>\n",
              "      <th></th>\n",
              "      <th></th>\n",
              "      <th></th>\n",
              "      <th></th>\n",
              "      <th></th>\n",
              "      <th></th>\n",
              "      <th></th>\n",
              "      <th></th>\n",
              "      <th></th>\n",
              "      <th></th>\n",
              "      <th></th>\n",
              "      <th></th>\n",
              "      <th></th>\n",
              "      <th></th>\n",
              "      <th></th>\n",
              "      <th></th>\n",
              "      <th></th>\n",
              "      <th></th>\n",
              "      <th></th>\n",
              "      <th></th>\n",
              "      <th></th>\n",
              "      <th></th>\n",
              "      <th></th>\n",
              "      <th></th>\n",
              "      <th></th>\n",
              "      <th></th>\n",
              "      <th></th>\n",
              "      <th></th>\n",
              "      <th></th>\n",
              "      <th></th>\n",
              "      <th></th>\n",
              "      <th></th>\n",
              "      <th></th>\n",
              "      <th></th>\n",
              "      <th></th>\n",
              "      <th></th>\n",
              "      <th></th>\n",
              "      <th></th>\n",
              "      <th></th>\n",
              "      <th></th>\n",
              "      <th></th>\n",
              "      <th></th>\n",
              "      <th></th>\n",
              "      <th></th>\n",
              "      <th></th>\n",
              "      <th></th>\n",
              "      <th></th>\n",
              "      <th></th>\n",
              "    </tr>\n",
              "  </thead>\n",
              "  <tbody>\n",
              "    <tr>\n",
              "      <th>Casual Cloths</th>\n",
              "      <td>77</td>\n",
              "      <td>25</td>\n",
              "      <td>937</td>\n",
              "      <td>47</td>\n",
              "      <td>271</td>\n",
              "      <td>82</td>\n",
              "      <td>104</td>\n",
              "      <td>81</td>\n",
              "      <td>0</td>\n",
              "      <td>379</td>\n",
              "      <td>33</td>\n",
              "      <td>71</td>\n",
              "      <td>20</td>\n",
              "      <td>333</td>\n",
              "      <td>34</td>\n",
              "      <td>1</td>\n",
              "      <td>127</td>\n",
              "      <td>64</td>\n",
              "      <td>38</td>\n",
              "      <td>18</td>\n",
              "      <td>120</td>\n",
              "      <td>141</td>\n",
              "      <td>161</td>\n",
              "      <td>18</td>\n",
              "      <td>11</td>\n",
              "      <td>51</td>\n",
              "      <td>251</td>\n",
              "      <td>49</td>\n",
              "      <td>80</td>\n",
              "      <td>0</td>\n",
              "      <td>132</td>\n",
              "      <td>69</td>\n",
              "      <td>263</td>\n",
              "      <td>12</td>\n",
              "      <td>30</td>\n",
              "      <td>123</td>\n",
              "      <td>0</td>\n",
              "      <td>30</td>\n",
              "      <td>92</td>\n",
              "      <td>55</td>\n",
              "      <td>...</td>\n",
              "      <td>24</td>\n",
              "      <td>12</td>\n",
              "      <td>22</td>\n",
              "      <td>21</td>\n",
              "      <td>183</td>\n",
              "      <td>19</td>\n",
              "      <td>27</td>\n",
              "      <td>135</td>\n",
              "      <td>333</td>\n",
              "      <td>246</td>\n",
              "      <td>59</td>\n",
              "      <td>91</td>\n",
              "      <td>0</td>\n",
              "      <td>33</td>\n",
              "      <td>175</td>\n",
              "      <td>6</td>\n",
              "      <td>56</td>\n",
              "      <td>42</td>\n",
              "      <td>15</td>\n",
              "      <td>25</td>\n",
              "      <td>105</td>\n",
              "      <td>164</td>\n",
              "      <td>0</td>\n",
              "      <td>59</td>\n",
              "      <td>152</td>\n",
              "      <td>15</td>\n",
              "      <td>33</td>\n",
              "      <td>40</td>\n",
              "      <td>281</td>\n",
              "      <td>0</td>\n",
              "      <td>0</td>\n",
              "      <td>22</td>\n",
              "      <td>0</td>\n",
              "      <td>0</td>\n",
              "      <td>63</td>\n",
              "      <td>22</td>\n",
              "      <td>60</td>\n",
              "      <td>23</td>\n",
              "      <td>145</td>\n",
              "      <td>335</td>\n",
              "    </tr>\n",
              "    <tr>\n",
              "      <th>Face Care</th>\n",
              "      <td>0</td>\n",
              "      <td>0</td>\n",
              "      <td>0</td>\n",
              "      <td>0</td>\n",
              "      <td>0</td>\n",
              "      <td>15</td>\n",
              "      <td>0</td>\n",
              "      <td>0</td>\n",
              "      <td>0</td>\n",
              "      <td>10</td>\n",
              "      <td>0</td>\n",
              "      <td>0</td>\n",
              "      <td>0</td>\n",
              "      <td>8</td>\n",
              "      <td>0</td>\n",
              "      <td>0</td>\n",
              "      <td>0</td>\n",
              "      <td>0</td>\n",
              "      <td>0</td>\n",
              "      <td>0</td>\n",
              "      <td>0</td>\n",
              "      <td>5</td>\n",
              "      <td>0</td>\n",
              "      <td>0</td>\n",
              "      <td>1</td>\n",
              "      <td>0</td>\n",
              "      <td>0</td>\n",
              "      <td>0</td>\n",
              "      <td>0</td>\n",
              "      <td>0</td>\n",
              "      <td>0</td>\n",
              "      <td>0</td>\n",
              "      <td>3</td>\n",
              "      <td>0</td>\n",
              "      <td>0</td>\n",
              "      <td>0</td>\n",
              "      <td>0</td>\n",
              "      <td>0</td>\n",
              "      <td>0</td>\n",
              "      <td>0</td>\n",
              "      <td>...</td>\n",
              "      <td>0</td>\n",
              "      <td>0</td>\n",
              "      <td>0</td>\n",
              "      <td>0</td>\n",
              "      <td>0</td>\n",
              "      <td>0</td>\n",
              "      <td>0</td>\n",
              "      <td>0</td>\n",
              "      <td>0</td>\n",
              "      <td>0</td>\n",
              "      <td>0</td>\n",
              "      <td>0</td>\n",
              "      <td>0</td>\n",
              "      <td>0</td>\n",
              "      <td>0</td>\n",
              "      <td>0</td>\n",
              "      <td>0</td>\n",
              "      <td>0</td>\n",
              "      <td>0</td>\n",
              "      <td>0</td>\n",
              "      <td>0</td>\n",
              "      <td>0</td>\n",
              "      <td>0</td>\n",
              "      <td>34</td>\n",
              "      <td>0</td>\n",
              "      <td>0</td>\n",
              "      <td>0</td>\n",
              "      <td>0</td>\n",
              "      <td>0</td>\n",
              "      <td>0</td>\n",
              "      <td>0</td>\n",
              "      <td>0</td>\n",
              "      <td>0</td>\n",
              "      <td>0</td>\n",
              "      <td>0</td>\n",
              "      <td>0</td>\n",
              "      <td>15</td>\n",
              "      <td>0</td>\n",
              "      <td>0</td>\n",
              "      <td>0</td>\n",
              "    </tr>\n",
              "    <tr>\n",
              "      <th>Hair Care</th>\n",
              "      <td>0</td>\n",
              "      <td>0</td>\n",
              "      <td>0</td>\n",
              "      <td>0</td>\n",
              "      <td>0</td>\n",
              "      <td>0</td>\n",
              "      <td>0</td>\n",
              "      <td>0</td>\n",
              "      <td>0</td>\n",
              "      <td>0</td>\n",
              "      <td>0</td>\n",
              "      <td>0</td>\n",
              "      <td>0</td>\n",
              "      <td>0</td>\n",
              "      <td>0</td>\n",
              "      <td>0</td>\n",
              "      <td>0</td>\n",
              "      <td>0</td>\n",
              "      <td>0</td>\n",
              "      <td>0</td>\n",
              "      <td>0</td>\n",
              "      <td>0</td>\n",
              "      <td>0</td>\n",
              "      <td>0</td>\n",
              "      <td>0</td>\n",
              "      <td>0</td>\n",
              "      <td>0</td>\n",
              "      <td>23</td>\n",
              "      <td>0</td>\n",
              "      <td>0</td>\n",
              "      <td>0</td>\n",
              "      <td>0</td>\n",
              "      <td>0</td>\n",
              "      <td>0</td>\n",
              "      <td>0</td>\n",
              "      <td>1</td>\n",
              "      <td>0</td>\n",
              "      <td>0</td>\n",
              "      <td>0</td>\n",
              "      <td>0</td>\n",
              "      <td>...</td>\n",
              "      <td>0</td>\n",
              "      <td>0</td>\n",
              "      <td>0</td>\n",
              "      <td>0</td>\n",
              "      <td>0</td>\n",
              "      <td>0</td>\n",
              "      <td>0</td>\n",
              "      <td>0</td>\n",
              "      <td>0</td>\n",
              "      <td>0</td>\n",
              "      <td>0</td>\n",
              "      <td>0</td>\n",
              "      <td>0</td>\n",
              "      <td>0</td>\n",
              "      <td>0</td>\n",
              "      <td>0</td>\n",
              "      <td>0</td>\n",
              "      <td>0</td>\n",
              "      <td>0</td>\n",
              "      <td>0</td>\n",
              "      <td>17</td>\n",
              "      <td>0</td>\n",
              "      <td>0</td>\n",
              "      <td>0</td>\n",
              "      <td>0</td>\n",
              "      <td>0</td>\n",
              "      <td>0</td>\n",
              "      <td>0</td>\n",
              "      <td>0</td>\n",
              "      <td>0</td>\n",
              "      <td>0</td>\n",
              "      <td>0</td>\n",
              "      <td>0</td>\n",
              "      <td>0</td>\n",
              "      <td>0</td>\n",
              "      <td>0</td>\n",
              "      <td>0</td>\n",
              "      <td>0</td>\n",
              "      <td>13</td>\n",
              "      <td>10</td>\n",
              "    </tr>\n",
              "    <tr>\n",
              "      <th>Luggage Bag</th>\n",
              "      <td>0</td>\n",
              "      <td>0</td>\n",
              "      <td>0</td>\n",
              "      <td>0</td>\n",
              "      <td>0</td>\n",
              "      <td>0</td>\n",
              "      <td>0</td>\n",
              "      <td>0</td>\n",
              "      <td>0</td>\n",
              "      <td>0</td>\n",
              "      <td>0</td>\n",
              "      <td>0</td>\n",
              "      <td>0</td>\n",
              "      <td>0</td>\n",
              "      <td>0</td>\n",
              "      <td>0</td>\n",
              "      <td>0</td>\n",
              "      <td>0</td>\n",
              "      <td>1</td>\n",
              "      <td>0</td>\n",
              "      <td>0</td>\n",
              "      <td>0</td>\n",
              "      <td>0</td>\n",
              "      <td>0</td>\n",
              "      <td>0</td>\n",
              "      <td>0</td>\n",
              "      <td>0</td>\n",
              "      <td>0</td>\n",
              "      <td>0</td>\n",
              "      <td>0</td>\n",
              "      <td>0</td>\n",
              "      <td>0</td>\n",
              "      <td>0</td>\n",
              "      <td>0</td>\n",
              "      <td>0</td>\n",
              "      <td>0</td>\n",
              "      <td>0</td>\n",
              "      <td>0</td>\n",
              "      <td>0</td>\n",
              "      <td>0</td>\n",
              "      <td>...</td>\n",
              "      <td>0</td>\n",
              "      <td>4</td>\n",
              "      <td>0</td>\n",
              "      <td>0</td>\n",
              "      <td>0</td>\n",
              "      <td>0</td>\n",
              "      <td>0</td>\n",
              "      <td>0</td>\n",
              "      <td>0</td>\n",
              "      <td>0</td>\n",
              "      <td>0</td>\n",
              "      <td>0</td>\n",
              "      <td>0</td>\n",
              "      <td>0</td>\n",
              "      <td>9</td>\n",
              "      <td>0</td>\n",
              "      <td>2</td>\n",
              "      <td>0</td>\n",
              "      <td>3</td>\n",
              "      <td>0</td>\n",
              "      <td>0</td>\n",
              "      <td>0</td>\n",
              "      <td>0</td>\n",
              "      <td>0</td>\n",
              "      <td>0</td>\n",
              "      <td>0</td>\n",
              "      <td>0</td>\n",
              "      <td>19</td>\n",
              "      <td>0</td>\n",
              "      <td>0</td>\n",
              "      <td>0</td>\n",
              "      <td>0</td>\n",
              "      <td>0</td>\n",
              "      <td>0</td>\n",
              "      <td>0</td>\n",
              "      <td>0</td>\n",
              "      <td>0</td>\n",
              "      <td>0</td>\n",
              "      <td>9</td>\n",
              "      <td>0</td>\n",
              "    </tr>\n",
              "    <tr>\n",
              "      <th>Men's Footwear</th>\n",
              "      <td>39</td>\n",
              "      <td>0</td>\n",
              "      <td>2</td>\n",
              "      <td>0</td>\n",
              "      <td>0</td>\n",
              "      <td>0</td>\n",
              "      <td>9</td>\n",
              "      <td>0</td>\n",
              "      <td>0</td>\n",
              "      <td>0</td>\n",
              "      <td>0</td>\n",
              "      <td>0</td>\n",
              "      <td>8</td>\n",
              "      <td>14</td>\n",
              "      <td>0</td>\n",
              "      <td>0</td>\n",
              "      <td>0</td>\n",
              "      <td>0</td>\n",
              "      <td>5</td>\n",
              "      <td>0</td>\n",
              "      <td>0</td>\n",
              "      <td>0</td>\n",
              "      <td>0</td>\n",
              "      <td>0</td>\n",
              "      <td>0</td>\n",
              "      <td>0</td>\n",
              "      <td>16</td>\n",
              "      <td>10</td>\n",
              "      <td>0</td>\n",
              "      <td>74</td>\n",
              "      <td>0</td>\n",
              "      <td>0</td>\n",
              "      <td>343</td>\n",
              "      <td>0</td>\n",
              "      <td>0</td>\n",
              "      <td>56</td>\n",
              "      <td>0</td>\n",
              "      <td>5</td>\n",
              "      <td>13</td>\n",
              "      <td>0</td>\n",
              "      <td>...</td>\n",
              "      <td>6</td>\n",
              "      <td>0</td>\n",
              "      <td>0</td>\n",
              "      <td>0</td>\n",
              "      <td>0</td>\n",
              "      <td>1</td>\n",
              "      <td>0</td>\n",
              "      <td>0</td>\n",
              "      <td>1</td>\n",
              "      <td>0</td>\n",
              "      <td>0</td>\n",
              "      <td>0</td>\n",
              "      <td>0</td>\n",
              "      <td>55</td>\n",
              "      <td>41</td>\n",
              "      <td>0</td>\n",
              "      <td>0</td>\n",
              "      <td>0</td>\n",
              "      <td>0</td>\n",
              "      <td>0</td>\n",
              "      <td>36</td>\n",
              "      <td>3</td>\n",
              "      <td>0</td>\n",
              "      <td>0</td>\n",
              "      <td>0</td>\n",
              "      <td>0</td>\n",
              "      <td>0</td>\n",
              "      <td>0</td>\n",
              "      <td>1</td>\n",
              "      <td>0</td>\n",
              "      <td>167</td>\n",
              "      <td>11</td>\n",
              "      <td>79</td>\n",
              "      <td>0</td>\n",
              "      <td>0</td>\n",
              "      <td>0</td>\n",
              "      <td>0</td>\n",
              "      <td>21</td>\n",
              "      <td>23</td>\n",
              "      <td>0</td>\n",
              "    </tr>\n",
              "    <tr>\n",
              "      <th>Perfumes</th>\n",
              "      <td>5</td>\n",
              "      <td>0</td>\n",
              "      <td>0</td>\n",
              "      <td>0</td>\n",
              "      <td>0</td>\n",
              "      <td>0</td>\n",
              "      <td>0</td>\n",
              "      <td>0</td>\n",
              "      <td>0</td>\n",
              "      <td>0</td>\n",
              "      <td>0</td>\n",
              "      <td>0</td>\n",
              "      <td>0</td>\n",
              "      <td>0</td>\n",
              "      <td>0</td>\n",
              "      <td>0</td>\n",
              "      <td>0</td>\n",
              "      <td>0</td>\n",
              "      <td>0</td>\n",
              "      <td>0</td>\n",
              "      <td>0</td>\n",
              "      <td>0</td>\n",
              "      <td>0</td>\n",
              "      <td>0</td>\n",
              "      <td>0</td>\n",
              "      <td>0</td>\n",
              "      <td>0</td>\n",
              "      <td>0</td>\n",
              "      <td>25</td>\n",
              "      <td>0</td>\n",
              "      <td>0</td>\n",
              "      <td>0</td>\n",
              "      <td>0</td>\n",
              "      <td>0</td>\n",
              "      <td>0</td>\n",
              "      <td>1</td>\n",
              "      <td>0</td>\n",
              "      <td>25</td>\n",
              "      <td>0</td>\n",
              "      <td>0</td>\n",
              "      <td>...</td>\n",
              "      <td>0</td>\n",
              "      <td>4</td>\n",
              "      <td>0</td>\n",
              "      <td>0</td>\n",
              "      <td>0</td>\n",
              "      <td>0</td>\n",
              "      <td>0</td>\n",
              "      <td>0</td>\n",
              "      <td>0</td>\n",
              "      <td>0</td>\n",
              "      <td>0</td>\n",
              "      <td>0</td>\n",
              "      <td>0</td>\n",
              "      <td>0</td>\n",
              "      <td>0</td>\n",
              "      <td>0</td>\n",
              "      <td>0</td>\n",
              "      <td>0</td>\n",
              "      <td>0</td>\n",
              "      <td>0</td>\n",
              "      <td>5</td>\n",
              "      <td>0</td>\n",
              "      <td>0</td>\n",
              "      <td>0</td>\n",
              "      <td>0</td>\n",
              "      <td>0</td>\n",
              "      <td>0</td>\n",
              "      <td>0</td>\n",
              "      <td>2</td>\n",
              "      <td>0</td>\n",
              "      <td>0</td>\n",
              "      <td>1</td>\n",
              "      <td>0</td>\n",
              "      <td>0</td>\n",
              "      <td>0</td>\n",
              "      <td>0</td>\n",
              "      <td>0</td>\n",
              "      <td>0</td>\n",
              "      <td>1</td>\n",
              "      <td>0</td>\n",
              "    </tr>\n",
              "    <tr>\n",
              "      <th>Shopping Bag</th>\n",
              "      <td>2</td>\n",
              "      <td>0</td>\n",
              "      <td>0</td>\n",
              "      <td>0</td>\n",
              "      <td>0</td>\n",
              "      <td>0</td>\n",
              "      <td>0</td>\n",
              "      <td>0</td>\n",
              "      <td>0</td>\n",
              "      <td>0</td>\n",
              "      <td>0</td>\n",
              "      <td>0</td>\n",
              "      <td>0</td>\n",
              "      <td>0</td>\n",
              "      <td>0</td>\n",
              "      <td>0</td>\n",
              "      <td>0</td>\n",
              "      <td>0</td>\n",
              "      <td>1</td>\n",
              "      <td>0</td>\n",
              "      <td>0</td>\n",
              "      <td>0</td>\n",
              "      <td>0</td>\n",
              "      <td>0</td>\n",
              "      <td>0</td>\n",
              "      <td>0</td>\n",
              "      <td>0</td>\n",
              "      <td>0</td>\n",
              "      <td>0</td>\n",
              "      <td>0</td>\n",
              "      <td>2</td>\n",
              "      <td>0</td>\n",
              "      <td>0</td>\n",
              "      <td>0</td>\n",
              "      <td>0</td>\n",
              "      <td>0</td>\n",
              "      <td>0</td>\n",
              "      <td>0</td>\n",
              "      <td>0</td>\n",
              "      <td>0</td>\n",
              "      <td>...</td>\n",
              "      <td>0</td>\n",
              "      <td>0</td>\n",
              "      <td>0</td>\n",
              "      <td>0</td>\n",
              "      <td>0</td>\n",
              "      <td>0</td>\n",
              "      <td>0</td>\n",
              "      <td>0</td>\n",
              "      <td>0</td>\n",
              "      <td>0</td>\n",
              "      <td>0</td>\n",
              "      <td>0</td>\n",
              "      <td>0</td>\n",
              "      <td>0</td>\n",
              "      <td>8</td>\n",
              "      <td>0</td>\n",
              "      <td>0</td>\n",
              "      <td>0</td>\n",
              "      <td>0</td>\n",
              "      <td>0</td>\n",
              "      <td>0</td>\n",
              "      <td>0</td>\n",
              "      <td>0</td>\n",
              "      <td>0</td>\n",
              "      <td>0</td>\n",
              "      <td>0</td>\n",
              "      <td>0</td>\n",
              "      <td>0</td>\n",
              "      <td>0</td>\n",
              "      <td>0</td>\n",
              "      <td>0</td>\n",
              "      <td>0</td>\n",
              "      <td>0</td>\n",
              "      <td>0</td>\n",
              "      <td>0</td>\n",
              "      <td>0</td>\n",
              "      <td>0</td>\n",
              "      <td>0</td>\n",
              "      <td>0</td>\n",
              "      <td>0</td>\n",
              "    </tr>\n",
              "    <tr>\n",
              "      <th>Skin Care</th>\n",
              "      <td>0</td>\n",
              "      <td>0</td>\n",
              "      <td>0</td>\n",
              "      <td>0</td>\n",
              "      <td>0</td>\n",
              "      <td>0</td>\n",
              "      <td>0</td>\n",
              "      <td>0</td>\n",
              "      <td>110</td>\n",
              "      <td>0</td>\n",
              "      <td>0</td>\n",
              "      <td>0</td>\n",
              "      <td>0</td>\n",
              "      <td>0</td>\n",
              "      <td>0</td>\n",
              "      <td>0</td>\n",
              "      <td>0</td>\n",
              "      <td>0</td>\n",
              "      <td>0</td>\n",
              "      <td>0</td>\n",
              "      <td>0</td>\n",
              "      <td>0</td>\n",
              "      <td>0</td>\n",
              "      <td>0</td>\n",
              "      <td>0</td>\n",
              "      <td>0</td>\n",
              "      <td>0</td>\n",
              "      <td>0</td>\n",
              "      <td>0</td>\n",
              "      <td>0</td>\n",
              "      <td>0</td>\n",
              "      <td>0</td>\n",
              "      <td>0</td>\n",
              "      <td>0</td>\n",
              "      <td>0</td>\n",
              "      <td>18</td>\n",
              "      <td>27</td>\n",
              "      <td>0</td>\n",
              "      <td>0</td>\n",
              "      <td>0</td>\n",
              "      <td>...</td>\n",
              "      <td>0</td>\n",
              "      <td>0</td>\n",
              "      <td>0</td>\n",
              "      <td>0</td>\n",
              "      <td>0</td>\n",
              "      <td>32</td>\n",
              "      <td>0</td>\n",
              "      <td>0</td>\n",
              "      <td>0</td>\n",
              "      <td>0</td>\n",
              "      <td>0</td>\n",
              "      <td>0</td>\n",
              "      <td>0</td>\n",
              "      <td>0</td>\n",
              "      <td>0</td>\n",
              "      <td>0</td>\n",
              "      <td>0</td>\n",
              "      <td>0</td>\n",
              "      <td>0</td>\n",
              "      <td>0</td>\n",
              "      <td>0</td>\n",
              "      <td>0</td>\n",
              "      <td>43</td>\n",
              "      <td>0</td>\n",
              "      <td>0</td>\n",
              "      <td>25</td>\n",
              "      <td>0</td>\n",
              "      <td>0</td>\n",
              "      <td>0</td>\n",
              "      <td>0</td>\n",
              "      <td>0</td>\n",
              "      <td>0</td>\n",
              "      <td>0</td>\n",
              "      <td>220</td>\n",
              "      <td>0</td>\n",
              "      <td>0</td>\n",
              "      <td>0</td>\n",
              "      <td>0</td>\n",
              "      <td>0</td>\n",
              "      <td>0</td>\n",
              "    </tr>\n",
              "    <tr>\n",
              "      <th>Slippers</th>\n",
              "      <td>0</td>\n",
              "      <td>1</td>\n",
              "      <td>0</td>\n",
              "      <td>0</td>\n",
              "      <td>0</td>\n",
              "      <td>0</td>\n",
              "      <td>0</td>\n",
              "      <td>0</td>\n",
              "      <td>0</td>\n",
              "      <td>0</td>\n",
              "      <td>0</td>\n",
              "      <td>0</td>\n",
              "      <td>0</td>\n",
              "      <td>3</td>\n",
              "      <td>0</td>\n",
              "      <td>0</td>\n",
              "      <td>0</td>\n",
              "      <td>0</td>\n",
              "      <td>125</td>\n",
              "      <td>0</td>\n",
              "      <td>0</td>\n",
              "      <td>2</td>\n",
              "      <td>0</td>\n",
              "      <td>0</td>\n",
              "      <td>5</td>\n",
              "      <td>1</td>\n",
              "      <td>0</td>\n",
              "      <td>0</td>\n",
              "      <td>125</td>\n",
              "      <td>0</td>\n",
              "      <td>10</td>\n",
              "      <td>35</td>\n",
              "      <td>13</td>\n",
              "      <td>0</td>\n",
              "      <td>20</td>\n",
              "      <td>2</td>\n",
              "      <td>0</td>\n",
              "      <td>0</td>\n",
              "      <td>0</td>\n",
              "      <td>0</td>\n",
              "      <td>...</td>\n",
              "      <td>0</td>\n",
              "      <td>0</td>\n",
              "      <td>0</td>\n",
              "      <td>82</td>\n",
              "      <td>0</td>\n",
              "      <td>0</td>\n",
              "      <td>0</td>\n",
              "      <td>0</td>\n",
              "      <td>1</td>\n",
              "      <td>1</td>\n",
              "      <td>0</td>\n",
              "      <td>0</td>\n",
              "      <td>21</td>\n",
              "      <td>0</td>\n",
              "      <td>1</td>\n",
              "      <td>0</td>\n",
              "      <td>0</td>\n",
              "      <td>0</td>\n",
              "      <td>0</td>\n",
              "      <td>0</td>\n",
              "      <td>0</td>\n",
              "      <td>2</td>\n",
              "      <td>0</td>\n",
              "      <td>2</td>\n",
              "      <td>0</td>\n",
              "      <td>0</td>\n",
              "      <td>0</td>\n",
              "      <td>0</td>\n",
              "      <td>0</td>\n",
              "      <td>0</td>\n",
              "      <td>0</td>\n",
              "      <td>0</td>\n",
              "      <td>0</td>\n",
              "      <td>0</td>\n",
              "      <td>2</td>\n",
              "      <td>0</td>\n",
              "      <td>0</td>\n",
              "      <td>0</td>\n",
              "      <td>0</td>\n",
              "      <td>0</td>\n",
              "    </tr>\n",
              "    <tr>\n",
              "      <th>Sports Cloths</th>\n",
              "      <td>55</td>\n",
              "      <td>0</td>\n",
              "      <td>23</td>\n",
              "      <td>2</td>\n",
              "      <td>5</td>\n",
              "      <td>42</td>\n",
              "      <td>63</td>\n",
              "      <td>3</td>\n",
              "      <td>0</td>\n",
              "      <td>118</td>\n",
              "      <td>15</td>\n",
              "      <td>0</td>\n",
              "      <td>12</td>\n",
              "      <td>147</td>\n",
              "      <td>0</td>\n",
              "      <td>0</td>\n",
              "      <td>10</td>\n",
              "      <td>16</td>\n",
              "      <td>56</td>\n",
              "      <td>1</td>\n",
              "      <td>5</td>\n",
              "      <td>3</td>\n",
              "      <td>2</td>\n",
              "      <td>0</td>\n",
              "      <td>4</td>\n",
              "      <td>0</td>\n",
              "      <td>5</td>\n",
              "      <td>14</td>\n",
              "      <td>56</td>\n",
              "      <td>0</td>\n",
              "      <td>50</td>\n",
              "      <td>0</td>\n",
              "      <td>184</td>\n",
              "      <td>0</td>\n",
              "      <td>0</td>\n",
              "      <td>38</td>\n",
              "      <td>0</td>\n",
              "      <td>5</td>\n",
              "      <td>36</td>\n",
              "      <td>0</td>\n",
              "      <td>...</td>\n",
              "      <td>1</td>\n",
              "      <td>5</td>\n",
              "      <td>10</td>\n",
              "      <td>5</td>\n",
              "      <td>6</td>\n",
              "      <td>42</td>\n",
              "      <td>10</td>\n",
              "      <td>128</td>\n",
              "      <td>1</td>\n",
              "      <td>1</td>\n",
              "      <td>0</td>\n",
              "      <td>0</td>\n",
              "      <td>0</td>\n",
              "      <td>2</td>\n",
              "      <td>32</td>\n",
              "      <td>9</td>\n",
              "      <td>1</td>\n",
              "      <td>0</td>\n",
              "      <td>5</td>\n",
              "      <td>36</td>\n",
              "      <td>60</td>\n",
              "      <td>39</td>\n",
              "      <td>0</td>\n",
              "      <td>42</td>\n",
              "      <td>0</td>\n",
              "      <td>0</td>\n",
              "      <td>19</td>\n",
              "      <td>31</td>\n",
              "      <td>0</td>\n",
              "      <td>30</td>\n",
              "      <td>0</td>\n",
              "      <td>0</td>\n",
              "      <td>0</td>\n",
              "      <td>0</td>\n",
              "      <td>2</td>\n",
              "      <td>0</td>\n",
              "      <td>5</td>\n",
              "      <td>18</td>\n",
              "      <td>66</td>\n",
              "      <td>61</td>\n",
              "    </tr>\n",
              "    <tr>\n",
              "      <th>Suits</th>\n",
              "      <td>17</td>\n",
              "      <td>0</td>\n",
              "      <td>2</td>\n",
              "      <td>1</td>\n",
              "      <td>15</td>\n",
              "      <td>17</td>\n",
              "      <td>36</td>\n",
              "      <td>3</td>\n",
              "      <td>0</td>\n",
              "      <td>49</td>\n",
              "      <td>7</td>\n",
              "      <td>0</td>\n",
              "      <td>14</td>\n",
              "      <td>25</td>\n",
              "      <td>0</td>\n",
              "      <td>0</td>\n",
              "      <td>46</td>\n",
              "      <td>2</td>\n",
              "      <td>0</td>\n",
              "      <td>11</td>\n",
              "      <td>2</td>\n",
              "      <td>15</td>\n",
              "      <td>3</td>\n",
              "      <td>0</td>\n",
              "      <td>0</td>\n",
              "      <td>0</td>\n",
              "      <td>5</td>\n",
              "      <td>30</td>\n",
              "      <td>12</td>\n",
              "      <td>0</td>\n",
              "      <td>78</td>\n",
              "      <td>0</td>\n",
              "      <td>67</td>\n",
              "      <td>0</td>\n",
              "      <td>5</td>\n",
              "      <td>25</td>\n",
              "      <td>0</td>\n",
              "      <td>0</td>\n",
              "      <td>0</td>\n",
              "      <td>0</td>\n",
              "      <td>...</td>\n",
              "      <td>0</td>\n",
              "      <td>0</td>\n",
              "      <td>0</td>\n",
              "      <td>0</td>\n",
              "      <td>11</td>\n",
              "      <td>0</td>\n",
              "      <td>0</td>\n",
              "      <td>6</td>\n",
              "      <td>6</td>\n",
              "      <td>9</td>\n",
              "      <td>29</td>\n",
              "      <td>0</td>\n",
              "      <td>0</td>\n",
              "      <td>9</td>\n",
              "      <td>62</td>\n",
              "      <td>0</td>\n",
              "      <td>2</td>\n",
              "      <td>4</td>\n",
              "      <td>0</td>\n",
              "      <td>25</td>\n",
              "      <td>25</td>\n",
              "      <td>0</td>\n",
              "      <td>0</td>\n",
              "      <td>6</td>\n",
              "      <td>46</td>\n",
              "      <td>0</td>\n",
              "      <td>3</td>\n",
              "      <td>0</td>\n",
              "      <td>0</td>\n",
              "      <td>0</td>\n",
              "      <td>0</td>\n",
              "      <td>11</td>\n",
              "      <td>0</td>\n",
              "      <td>0</td>\n",
              "      <td>3</td>\n",
              "      <td>37</td>\n",
              "      <td>16</td>\n",
              "      <td>2</td>\n",
              "      <td>218</td>\n",
              "      <td>0</td>\n",
              "    </tr>\n",
              "    <tr>\n",
              "      <th>Women's Footwear</th>\n",
              "      <td>18</td>\n",
              "      <td>0</td>\n",
              "      <td>1</td>\n",
              "      <td>0</td>\n",
              "      <td>0</td>\n",
              "      <td>0</td>\n",
              "      <td>0</td>\n",
              "      <td>0</td>\n",
              "      <td>0</td>\n",
              "      <td>0</td>\n",
              "      <td>0</td>\n",
              "      <td>0</td>\n",
              "      <td>0</td>\n",
              "      <td>8</td>\n",
              "      <td>0</td>\n",
              "      <td>28</td>\n",
              "      <td>0</td>\n",
              "      <td>1</td>\n",
              "      <td>0</td>\n",
              "      <td>0</td>\n",
              "      <td>0</td>\n",
              "      <td>0</td>\n",
              "      <td>0</td>\n",
              "      <td>0</td>\n",
              "      <td>0</td>\n",
              "      <td>0</td>\n",
              "      <td>0</td>\n",
              "      <td>0</td>\n",
              "      <td>0</td>\n",
              "      <td>0</td>\n",
              "      <td>0</td>\n",
              "      <td>0</td>\n",
              "      <td>1</td>\n",
              "      <td>12</td>\n",
              "      <td>0</td>\n",
              "      <td>16</td>\n",
              "      <td>0</td>\n",
              "      <td>1</td>\n",
              "      <td>108</td>\n",
              "      <td>0</td>\n",
              "      <td>...</td>\n",
              "      <td>0</td>\n",
              "      <td>0</td>\n",
              "      <td>0</td>\n",
              "      <td>0</td>\n",
              "      <td>0</td>\n",
              "      <td>0</td>\n",
              "      <td>0</td>\n",
              "      <td>0</td>\n",
              "      <td>1</td>\n",
              "      <td>0</td>\n",
              "      <td>0</td>\n",
              "      <td>0</td>\n",
              "      <td>0</td>\n",
              "      <td>1</td>\n",
              "      <td>347</td>\n",
              "      <td>11</td>\n",
              "      <td>0</td>\n",
              "      <td>0</td>\n",
              "      <td>0</td>\n",
              "      <td>117</td>\n",
              "      <td>65</td>\n",
              "      <td>0</td>\n",
              "      <td>0</td>\n",
              "      <td>9</td>\n",
              "      <td>0</td>\n",
              "      <td>0</td>\n",
              "      <td>0</td>\n",
              "      <td>0</td>\n",
              "      <td>0</td>\n",
              "      <td>0</td>\n",
              "      <td>0</td>\n",
              "      <td>0</td>\n",
              "      <td>0</td>\n",
              "      <td>0</td>\n",
              "      <td>0</td>\n",
              "      <td>0</td>\n",
              "      <td>0</td>\n",
              "      <td>8</td>\n",
              "      <td>9</td>\n",
              "      <td>31</td>\n",
              "    </tr>\n",
              "  </tbody>\n",
              "</table>\n",
              "<p>12 rows × 156 columns</p>\n",
              "</div>"
            ],
            "text/plain": [
              "Brand              A  ABC_ANY_BUDY_CLE  ARBO  ...  saltla  vims_rai  yellowvib\n",
              "Sub_category                                  ...                             \n",
              "Casual Cloths     77                25   937  ...      23       145        335\n",
              "Face Care          0                 0     0  ...       0         0          0\n",
              "Hair Care          0                 0     0  ...       0        13         10\n",
              "Luggage Bag        0                 0     0  ...       0         9          0\n",
              "Men's Footwear    39                 0     2  ...      21        23          0\n",
              "Perfumes           5                 0     0  ...       0         1          0\n",
              "Shopping Bag       2                 0     0  ...       0         0          0\n",
              "Skin Care          0                 0     0  ...       0         0          0\n",
              "Slippers           0                 1     0  ...       0         0          0\n",
              "Sports Cloths     55                 0    23  ...      18        66         61\n",
              "Suits             17                 0     2  ...       2       218          0\n",
              "Women's Footwear  18                 0     1  ...       8         9         31\n",
              "\n",
              "[12 rows x 156 columns]"
            ]
          },
          "metadata": {
            "tags": []
          },
          "execution_count": 32
        }
      ]
    },
    {
      "cell_type": "code",
      "metadata": {
        "colab": {
          "base_uri": "https://localhost:8080/"
        },
        "id": "t0wxBo4AdW_4",
        "outputId": "ebef1250-2475-4fab-e3ae-b2e5c5dd78d7"
      },
      "source": [
        "#Chi-Square test\n",
        "from scipy.stats import chi2_contingency\n",
        "chi2_contingency(pd.crosstab(dataset['Sub_category'],dataset['Brand']))"
      ],
      "execution_count": null,
      "outputs": [
        {
          "output_type": "execute_result",
          "data": {
            "text/plain": [
              "(69371.75107709528,\n",
              " 0.0,\n",
              " 1705,\n",
              " array([[1.18505254e+02, 1.44654300e+01, 5.36889999e+02, ...,\n",
              "         4.00581139e+01, 2.69279543e+02, 2.43130497e+02],\n",
              "        [1.10520171e+00, 1.34907251e-01, 5.00713452e+00, ...,\n",
              "         3.73589311e-01, 2.51135037e+00, 2.26747957e+00],\n",
              "        [1.05915164e+00, 1.29286116e-01, 4.79850391e+00, ...,\n",
              "         3.58023090e-01, 2.40671077e+00, 2.17300125e+00],\n",
              "        ...,\n",
              "        [2.70866520e+01, 3.30635188e+00, 1.22716522e+02, ...,\n",
              "         9.15605137e+00, 6.15490120e+01, 5.55721451e+01],\n",
              "        [1.83279284e+01, 2.23721192e+00, 8.30349808e+01, ...,\n",
              "         6.19535608e+00, 4.16465603e+01, 3.76023695e+01],\n",
              "        [1.25256194e+01, 1.52894885e+00, 5.67475245e+01, ...,\n",
              "         4.23401219e+00, 2.84619709e+01, 2.56981018e+01]]))"
            ]
          },
          "metadata": {
            "tags": []
          },
          "execution_count": 33
        }
      ]
    },
    {
      "cell_type": "code",
      "metadata": {
        "colab": {
          "base_uri": "https://localhost:8080/",
          "height": 141
        },
        "id": "wIDwamsEfJe_",
        "outputId": "51e649b6-34d0-40b9-d9dc-03e96e23e16f"
      },
      "source": [
        "#Two-way-table between gender and sub_category\n",
        "pd.crosstab(dataset['Gender'],dataset['Sub_category'])"
      ],
      "execution_count": null,
      "outputs": [
        {
          "output_type": "execute_result",
          "data": {
            "text/html": [
              "<div>\n",
              "<style scoped>\n",
              "    .dataframe tbody tr th:only-of-type {\n",
              "        vertical-align: middle;\n",
              "    }\n",
              "\n",
              "    .dataframe tbody tr th {\n",
              "        vertical-align: top;\n",
              "    }\n",
              "\n",
              "    .dataframe thead th {\n",
              "        text-align: right;\n",
              "    }\n",
              "</style>\n",
              "<table border=\"1\" class=\"dataframe\">\n",
              "  <thead>\n",
              "    <tr style=\"text-align: right;\">\n",
              "      <th>Sub_category</th>\n",
              "      <th>Casual Cloths</th>\n",
              "      <th>Face Care</th>\n",
              "      <th>Hair Care</th>\n",
              "      <th>Luggage Bag</th>\n",
              "      <th>Men's Footwear</th>\n",
              "      <th>Perfumes</th>\n",
              "      <th>Shopping Bag</th>\n",
              "      <th>Skin Care</th>\n",
              "      <th>Slippers</th>\n",
              "      <th>Sports Cloths</th>\n",
              "      <th>Suits</th>\n",
              "      <th>Women's Footwear</th>\n",
              "    </tr>\n",
              "    <tr>\n",
              "      <th>Gender</th>\n",
              "      <th></th>\n",
              "      <th></th>\n",
              "      <th></th>\n",
              "      <th></th>\n",
              "      <th></th>\n",
              "      <th></th>\n",
              "      <th></th>\n",
              "      <th></th>\n",
              "      <th></th>\n",
              "      <th></th>\n",
              "      <th></th>\n",
              "      <th></th>\n",
              "    </tr>\n",
              "  </thead>\n",
              "  <tbody>\n",
              "    <tr>\n",
              "      <th>Female</th>\n",
              "      <td>6548</td>\n",
              "      <td>47</td>\n",
              "      <td>59</td>\n",
              "      <td>46</td>\n",
              "      <td>679</td>\n",
              "      <td>51</td>\n",
              "      <td>38</td>\n",
              "      <td>639</td>\n",
              "      <td>666</td>\n",
              "      <td>1498</td>\n",
              "      <td>963</td>\n",
              "      <td>638</td>\n",
              "    </tr>\n",
              "    <tr>\n",
              "      <th>Male</th>\n",
              "      <td>6255</td>\n",
              "      <td>71</td>\n",
              "      <td>55</td>\n",
              "      <td>29</td>\n",
              "      <td>832</td>\n",
              "      <td>43</td>\n",
              "      <td>25</td>\n",
              "      <td>296</td>\n",
              "      <td>379</td>\n",
              "      <td>1429</td>\n",
              "      <td>1018</td>\n",
              "      <td>719</td>\n",
              "    </tr>\n",
              "  </tbody>\n",
              "</table>\n",
              "</div>"
            ],
            "text/plain": [
              "Sub_category  Casual Cloths  Face Care  ...  Suits  Women's Footwear\n",
              "Gender                                  ...                         \n",
              "Female                 6548         47  ...    963               638\n",
              "Male                   6255         71  ...   1018               719\n",
              "\n",
              "[2 rows x 12 columns]"
            ]
          },
          "metadata": {
            "tags": []
          },
          "execution_count": 34
        }
      ]
    },
    {
      "cell_type": "code",
      "metadata": {
        "colab": {
          "base_uri": "https://localhost:8080/"
        },
        "id": "tMwvSsV6fvsy",
        "outputId": "9ed809e9-7927-4046-8f4a-f9a188f60c21"
      },
      "source": [
        "#Chi-Square test\n",
        "from scipy.stats import chi2_contingency\n",
        "chi2_contingency(pd.crosstab(dataset['Gender'],dataset['Sub_category']))"
      ],
      "execution_count": null,
      "outputs": [
        {
          "output_type": "execute_result",
          "data": {
            "text/plain": [
              "(224.71571595301222,\n",
              " 5.370910252603635e-42,\n",
              " 11,\n",
              " array([[6601.97263606,   60.84767407,   58.78504105,   38.67436911,\n",
              "          779.15962299,   48.47187595,   32.48647005,  482.14046823,\n",
              "          538.86287625, 1509.33171177, 1021.51900274,  699.74825175],\n",
              "        [6201.02736394,   57.15232593,   55.21495895,   36.32563089,\n",
              "          731.84037701,   45.52812405,   30.51352995,  452.85953177,\n",
              "          506.13712375, 1417.66828823,  959.48099726,  657.25174825]]))"
            ]
          },
          "metadata": {
            "tags": []
          },
          "execution_count": 35
        }
      ]
    },
    {
      "cell_type": "code",
      "metadata": {
        "id": "QyBV3CxQOZOq"
      },
      "source": [
        "#Removing punctuations from the offer\n",
        "dataset['Offer']=dataset['Offer'].str.replace('% off','')"
      ],
      "execution_count": null,
      "outputs": []
    },
    {
      "cell_type": "code",
      "metadata": {
        "id": "5_NbN2S_P20G"
      },
      "source": [
        "#Converting datatypes from the dataset\n",
        "dataset=dataset.astype({'Offer': 'int64',\n",
        "                  'Order Date': 'datetime64[ns]'})"
      ],
      "execution_count": null,
      "outputs": []
    },
    {
      "cell_type": "code",
      "metadata": {
        "colab": {
          "base_uri": "https://localhost:8080/"
        },
        "id": "_2-oXpJ7Q5pC",
        "outputId": "e5513d10-61f2-4107-b62f-296ee4198c04"
      },
      "source": [
        "dataset.dtypes"
      ],
      "execution_count": null,
      "outputs": [
        {
          "output_type": "execute_result",
          "data": {
            "text/plain": [
              "Customer_Name            object\n",
              "Gender                   object\n",
              "Salary                  float64\n",
              "Area                     object\n",
              "Sub_category             object\n",
              "Brand                    object\n",
              "Price                     int64\n",
              "Quantity                  int64\n",
              "Order Date       datetime64[ns]\n",
              "Recency                   int64\n",
              "History                 float64\n",
              "Offer                     int64\n",
              "Profit                  float64\n",
              "dtype: object"
            ]
          },
          "metadata": {
            "tags": []
          },
          "execution_count": 38
        }
      ]
    },
    {
      "cell_type": "markdown",
      "metadata": {
        "id": "QtUFfT0Z-XHi"
      },
      "source": [
        "##**Dealing with the missing values**"
      ]
    },
    {
      "cell_type": "code",
      "metadata": {
        "id": "oQUQlN5Qg-4E",
        "colab": {
          "base_uri": "https://localhost:8080/"
        },
        "outputId": "7e6df47b-4958-4133-c3ca-1d8e25c51a53"
      },
      "source": [
        "#missing values from the dataset\n",
        "dataset.isnull().sum()  "
      ],
      "execution_count": null,
      "outputs": [
        {
          "output_type": "execute_result",
          "data": {
            "text/plain": [
              "Customer_Name      0\n",
              "Gender           104\n",
              "Salary           115\n",
              "Area              41\n",
              "Sub_category      38\n",
              "Brand              0\n",
              "Price              0\n",
              "Quantity           0\n",
              "Order Date         0\n",
              "Recency            0\n",
              "History            0\n",
              "Offer              0\n",
              "Profit             0\n",
              "dtype: int64"
            ]
          },
          "metadata": {
            "tags": []
          },
          "execution_count": 39
        }
      ]
    },
    {
      "cell_type": "markdown",
      "metadata": {
        "id": "LbtQrzZQSPAK"
      },
      "source": [
        "**Handling the missing values using SimpleImputer**"
      ]
    },
    {
      "cell_type": "code",
      "metadata": {
        "id": "dCOtPJSJ-mu_"
      },
      "source": [
        "#handling missing data (Replacing missing data with the mean value)  \n",
        "imputer= SimpleImputer(missing_values=np.NAN,strategy='mean',fill_value=None, verbose=1, copy=True)\n",
        "imputer= imputer.fit(dataset[['Salary']])\n",
        "dataset[['Salary']]=imputer.transform(dataset[['Salary']])"
      ],
      "execution_count": null,
      "outputs": []
    },
    {
      "cell_type": "code",
      "metadata": {
        "id": "H3M3Ro1bT_e_"
      },
      "source": [
        "#handling missing data (Replacing missing data with the mode value)  \n",
        "imputer= SimpleImputer(missing_values=np.NAN,strategy='most_frequent',fill_value=None, verbose=1, copy=True)\n",
        "imputer= imputer.fit(dataset[['Gender','Area','Sub_category']])\n",
        "dataset[['Gender','Area','Sub_category']]=imputer.transform(dataset[['Gender','Area','Sub_category']])"
      ],
      "execution_count": null,
      "outputs": []
    },
    {
      "cell_type": "code",
      "metadata": {
        "colab": {
          "base_uri": "https://localhost:8080/"
        },
        "id": "TpltgOt7VHEy",
        "outputId": "6ca74ec8-1089-4ce6-accf-f60ef2b1d7ac"
      },
      "source": [
        "dataset.isnull().sum()  "
      ],
      "execution_count": null,
      "outputs": [
        {
          "output_type": "execute_result",
          "data": {
            "text/plain": [
              "Customer_Name    0\n",
              "Gender           0\n",
              "Salary           0\n",
              "Area             0\n",
              "Sub_category     0\n",
              "Brand            0\n",
              "Price            0\n",
              "Quantity         0\n",
              "Order Date       0\n",
              "Recency          0\n",
              "History          0\n",
              "Offer            0\n",
              "Profit           0\n",
              "dtype: int64"
            ]
          },
          "metadata": {
            "tags": []
          },
          "execution_count": 42
        }
      ]
    },
    {
      "cell_type": "markdown",
      "metadata": {
        "id": "G0p0l0sHVjhu"
      },
      "source": [
        "###**Segregating the Dependent and Independent variables**"
      ]
    },
    {
      "cell_type": "code",
      "metadata": {
        "id": "yZ-k_A1NVha-"
      },
      "source": [
        "#Seperate features from the dataset\n",
        "features=dataset[['Sub_category','Brand','Price','Quantity']]"
      ],
      "execution_count": null,
      "outputs": []
    },
    {
      "cell_type": "code",
      "metadata": {
        "colab": {
          "base_uri": "https://localhost:8080/"
        },
        "id": "t5gTdpbAWyVL",
        "outputId": "ea565cb4-19f5-46eb-8293-dc3cde645a82"
      },
      "source": [
        "features.shape"
      ],
      "execution_count": null,
      "outputs": [
        {
          "output_type": "execute_result",
          "data": {
            "text/plain": [
              "(23165, 4)"
            ]
          },
          "metadata": {
            "tags": []
          },
          "execution_count": 44
        }
      ]
    },
    {
      "cell_type": "code",
      "metadata": {
        "id": "Lbrrt9PuW8Ax"
      },
      "source": [
        "#Seperate labels from the dataset\n",
        "labels=dataset[['Offer']]\n",
        "labels=np.array(labels,dtype='int64').ravel()"
      ],
      "execution_count": null,
      "outputs": []
    },
    {
      "cell_type": "code",
      "metadata": {
        "colab": {
          "base_uri": "https://localhost:8080/"
        },
        "id": "Qmiw-VWnYejD",
        "outputId": "91dbd1b5-27e4-44a8-8bf5-9510987212f0"
      },
      "source": [
        "labels.shape"
      ],
      "execution_count": null,
      "outputs": [
        {
          "output_type": "execute_result",
          "data": {
            "text/plain": [
              "(23165,)"
            ]
          },
          "metadata": {
            "tags": []
          },
          "execution_count": 46
        }
      ]
    },
    {
      "cell_type": "markdown",
      "metadata": {
        "id": "MjJEDqiCZVNG"
      },
      "source": [
        "###**Encoding Categorical data using OneHotEncoding**"
      ]
    },
    {
      "cell_type": "code",
      "metadata": {
        "id": "TNHRPI80YnpP"
      },
      "source": [
        "# Encoding the Features \n",
        "encoder=ColumnTransformer([('encoder',OneHotEncoder(), [0,1])],remainder='passthrough')\n",
        "features=encoder.fit_transform(features)"
      ],
      "execution_count": null,
      "outputs": []
    },
    {
      "cell_type": "code",
      "metadata": {
        "colab": {
          "base_uri": "https://localhost:8080/"
        },
        "id": "C_zBr_zaaPoJ",
        "outputId": "cdea0e71-18e3-4b88-ed07-e54aed4868d7"
      },
      "source": [
        "features"
      ],
      "execution_count": null,
      "outputs": [
        {
          "output_type": "execute_result",
          "data": {
            "text/plain": [
              "<23165x170 sparse matrix of type '<class 'numpy.float64'>'\n",
              "\twith 92660 stored elements in Compressed Sparse Row format>"
            ]
          },
          "metadata": {
            "tags": []
          },
          "execution_count": 48
        }
      ]
    },
    {
      "cell_type": "code",
      "metadata": {
        "id": "H-9J7HXOaRCR"
      },
      "source": [
        "#Converting sparse matrix to numpy ndarray\n",
        "features=features.toarray()"
      ],
      "execution_count": null,
      "outputs": []
    },
    {
      "cell_type": "code",
      "metadata": {
        "colab": {
          "base_uri": "https://localhost:8080/"
        },
        "id": "O4ZQ4dzLa0_G",
        "outputId": "a9c22f55-55c3-449a-bffb-4214033eba5f"
      },
      "source": [
        "features"
      ],
      "execution_count": null,
      "outputs": [
        {
          "output_type": "execute_result",
          "data": {
            "text/plain": [
              "array([[0.000e+00, 0.000e+00, 0.000e+00, ..., 0.000e+00, 2.999e+03,\n",
              "        1.000e+00],\n",
              "       [0.000e+00, 0.000e+00, 0.000e+00, ..., 0.000e+00, 1.499e+03,\n",
              "        1.000e+00],\n",
              "       [0.000e+00, 0.000e+00, 0.000e+00, ..., 0.000e+00, 2.999e+03,\n",
              "        1.000e+00],\n",
              "       ...,\n",
              "       [0.000e+00, 0.000e+00, 0.000e+00, ..., 0.000e+00, 7.990e+02,\n",
              "        1.000e+00],\n",
              "       [0.000e+00, 0.000e+00, 0.000e+00, ..., 0.000e+00, 3.125e+03,\n",
              "        1.000e+00],\n",
              "       [0.000e+00, 0.000e+00, 0.000e+00, ..., 0.000e+00, 3.125e+03,\n",
              "        1.000e+00]])"
            ]
          },
          "metadata": {
            "tags": []
          },
          "execution_count": 50
        }
      ]
    },
    {
      "cell_type": "code",
      "metadata": {
        "colab": {
          "base_uri": "https://localhost:8080/"
        },
        "id": "RL0DpE6Ha4cJ",
        "outputId": "037a3f79-3ff3-4cc7-cb14-a2762bf52ed4"
      },
      "source": [
        "features.shape"
      ],
      "execution_count": null,
      "outputs": [
        {
          "output_type": "execute_result",
          "data": {
            "text/plain": [
              "(23165, 170)"
            ]
          },
          "metadata": {
            "tags": []
          },
          "execution_count": 51
        }
      ]
    },
    {
      "cell_type": "code",
      "metadata": {
        "colab": {
          "base_uri": "https://localhost:8080/"
        },
        "id": "fykyNti7bCoD",
        "outputId": "d625cafb-1c66-4525-fa27-9072e3a8d2e5"
      },
      "source": [
        "#Displaying zeroth row from the features\n",
        "features[0]"
      ],
      "execution_count": null,
      "outputs": [
        {
          "output_type": "execute_result",
          "data": {
            "text/plain": [
              "array([0.000e+00, 0.000e+00, 0.000e+00, 0.000e+00, 0.000e+00, 0.000e+00,\n",
              "       0.000e+00, 0.000e+00, 0.000e+00, 1.000e+00, 0.000e+00, 0.000e+00,\n",
              "       0.000e+00, 0.000e+00, 0.000e+00, 0.000e+00, 0.000e+00, 0.000e+00,\n",
              "       0.000e+00, 0.000e+00, 0.000e+00, 0.000e+00, 0.000e+00, 0.000e+00,\n",
              "       0.000e+00, 0.000e+00, 0.000e+00, 0.000e+00, 0.000e+00, 0.000e+00,\n",
              "       0.000e+00, 0.000e+00, 0.000e+00, 0.000e+00, 0.000e+00, 0.000e+00,\n",
              "       0.000e+00, 0.000e+00, 0.000e+00, 0.000e+00, 0.000e+00, 0.000e+00,\n",
              "       0.000e+00, 0.000e+00, 0.000e+00, 0.000e+00, 0.000e+00, 0.000e+00,\n",
              "       0.000e+00, 0.000e+00, 0.000e+00, 0.000e+00, 0.000e+00, 0.000e+00,\n",
              "       0.000e+00, 0.000e+00, 0.000e+00, 0.000e+00, 0.000e+00, 0.000e+00,\n",
              "       0.000e+00, 0.000e+00, 0.000e+00, 0.000e+00, 0.000e+00, 0.000e+00,\n",
              "       0.000e+00, 0.000e+00, 0.000e+00, 0.000e+00, 0.000e+00, 0.000e+00,\n",
              "       0.000e+00, 0.000e+00, 0.000e+00, 0.000e+00, 0.000e+00, 0.000e+00,\n",
              "       0.000e+00, 0.000e+00, 0.000e+00, 0.000e+00, 0.000e+00, 0.000e+00,\n",
              "       0.000e+00, 0.000e+00, 0.000e+00, 0.000e+00, 0.000e+00, 0.000e+00,\n",
              "       0.000e+00, 0.000e+00, 0.000e+00, 0.000e+00, 0.000e+00, 0.000e+00,\n",
              "       0.000e+00, 0.000e+00, 0.000e+00, 0.000e+00, 0.000e+00, 0.000e+00,\n",
              "       0.000e+00, 0.000e+00, 0.000e+00, 0.000e+00, 0.000e+00, 0.000e+00,\n",
              "       0.000e+00, 0.000e+00, 0.000e+00, 0.000e+00, 0.000e+00, 0.000e+00,\n",
              "       0.000e+00, 0.000e+00, 0.000e+00, 0.000e+00, 0.000e+00, 0.000e+00,\n",
              "       0.000e+00, 0.000e+00, 0.000e+00, 0.000e+00, 0.000e+00, 0.000e+00,\n",
              "       0.000e+00, 0.000e+00, 0.000e+00, 0.000e+00, 0.000e+00, 0.000e+00,\n",
              "       0.000e+00, 0.000e+00, 0.000e+00, 0.000e+00, 0.000e+00, 0.000e+00,\n",
              "       0.000e+00, 0.000e+00, 0.000e+00, 0.000e+00, 0.000e+00, 0.000e+00,\n",
              "       0.000e+00, 0.000e+00, 0.000e+00, 0.000e+00, 0.000e+00, 0.000e+00,\n",
              "       0.000e+00, 0.000e+00, 0.000e+00, 0.000e+00, 0.000e+00, 0.000e+00,\n",
              "       0.000e+00, 1.000e+00, 0.000e+00, 0.000e+00, 0.000e+00, 0.000e+00,\n",
              "       0.000e+00, 0.000e+00, 0.000e+00, 0.000e+00, 0.000e+00, 0.000e+00,\n",
              "       2.999e+03, 1.000e+00])"
            ]
          },
          "metadata": {
            "tags": []
          },
          "execution_count": 52
        }
      ]
    },
    {
      "cell_type": "markdown",
      "metadata": {
        "id": "mFcl8ESaebPF"
      },
      "source": [
        "**Removing redundancy columns from the features**\n",
        "\n",
        "\n"
      ]
    },
    {
      "cell_type": "code",
      "metadata": {
        "id": "VyyrynuzdQkJ"
      },
      "source": [
        "temp1=features[:, 1:12]"
      ],
      "execution_count": null,
      "outputs": []
    },
    {
      "cell_type": "code",
      "metadata": {
        "colab": {
          "base_uri": "https://localhost:8080/"
        },
        "id": "vAd2qiyMd7cD",
        "outputId": "ee99a9dd-0862-4adc-8081-481f23e2117c"
      },
      "source": [
        "#Displaying zeroth row from the temp1\n",
        "temp1[0]"
      ],
      "execution_count": null,
      "outputs": [
        {
          "output_type": "execute_result",
          "data": {
            "text/plain": [
              "array([0., 0., 0., 0., 0., 0., 0., 0., 1., 0., 0.])"
            ]
          },
          "metadata": {
            "tags": []
          },
          "execution_count": 54
        }
      ]
    },
    {
      "cell_type": "code",
      "metadata": {
        "id": "3sms-QmTeA_J"
      },
      "source": [
        "temp2=features[:, 13:]"
      ],
      "execution_count": null,
      "outputs": []
    },
    {
      "cell_type": "code",
      "metadata": {
        "colab": {
          "base_uri": "https://localhost:8080/"
        },
        "id": "j5qYN0Y2eq0f",
        "outputId": "1503dd2e-0574-4434-d019-3560a8222673"
      },
      "source": [
        "#Displaying zeroth row from the temp1\n",
        "temp2[0]"
      ],
      "execution_count": null,
      "outputs": [
        {
          "output_type": "execute_result",
          "data": {
            "text/plain": [
              "array([0.000e+00, 0.000e+00, 0.000e+00, 0.000e+00, 0.000e+00, 0.000e+00,\n",
              "       0.000e+00, 0.000e+00, 0.000e+00, 0.000e+00, 0.000e+00, 0.000e+00,\n",
              "       0.000e+00, 0.000e+00, 0.000e+00, 0.000e+00, 0.000e+00, 0.000e+00,\n",
              "       0.000e+00, 0.000e+00, 0.000e+00, 0.000e+00, 0.000e+00, 0.000e+00,\n",
              "       0.000e+00, 0.000e+00, 0.000e+00, 0.000e+00, 0.000e+00, 0.000e+00,\n",
              "       0.000e+00, 0.000e+00, 0.000e+00, 0.000e+00, 0.000e+00, 0.000e+00,\n",
              "       0.000e+00, 0.000e+00, 0.000e+00, 0.000e+00, 0.000e+00, 0.000e+00,\n",
              "       0.000e+00, 0.000e+00, 0.000e+00, 0.000e+00, 0.000e+00, 0.000e+00,\n",
              "       0.000e+00, 0.000e+00, 0.000e+00, 0.000e+00, 0.000e+00, 0.000e+00,\n",
              "       0.000e+00, 0.000e+00, 0.000e+00, 0.000e+00, 0.000e+00, 0.000e+00,\n",
              "       0.000e+00, 0.000e+00, 0.000e+00, 0.000e+00, 0.000e+00, 0.000e+00,\n",
              "       0.000e+00, 0.000e+00, 0.000e+00, 0.000e+00, 0.000e+00, 0.000e+00,\n",
              "       0.000e+00, 0.000e+00, 0.000e+00, 0.000e+00, 0.000e+00, 0.000e+00,\n",
              "       0.000e+00, 0.000e+00, 0.000e+00, 0.000e+00, 0.000e+00, 0.000e+00,\n",
              "       0.000e+00, 0.000e+00, 0.000e+00, 0.000e+00, 0.000e+00, 0.000e+00,\n",
              "       0.000e+00, 0.000e+00, 0.000e+00, 0.000e+00, 0.000e+00, 0.000e+00,\n",
              "       0.000e+00, 0.000e+00, 0.000e+00, 0.000e+00, 0.000e+00, 0.000e+00,\n",
              "       0.000e+00, 0.000e+00, 0.000e+00, 0.000e+00, 0.000e+00, 0.000e+00,\n",
              "       0.000e+00, 0.000e+00, 0.000e+00, 0.000e+00, 0.000e+00, 0.000e+00,\n",
              "       0.000e+00, 0.000e+00, 0.000e+00, 0.000e+00, 0.000e+00, 0.000e+00,\n",
              "       0.000e+00, 0.000e+00, 0.000e+00, 0.000e+00, 0.000e+00, 0.000e+00,\n",
              "       0.000e+00, 0.000e+00, 0.000e+00, 0.000e+00, 0.000e+00, 0.000e+00,\n",
              "       0.000e+00, 0.000e+00, 0.000e+00, 0.000e+00, 0.000e+00, 0.000e+00,\n",
              "       0.000e+00, 0.000e+00, 0.000e+00, 0.000e+00, 0.000e+00, 0.000e+00,\n",
              "       1.000e+00, 0.000e+00, 0.000e+00, 0.000e+00, 0.000e+00, 0.000e+00,\n",
              "       0.000e+00, 0.000e+00, 0.000e+00, 0.000e+00, 0.000e+00, 2.999e+03,\n",
              "       1.000e+00])"
            ]
          },
          "metadata": {
            "tags": []
          },
          "execution_count": 56
        }
      ]
    },
    {
      "cell_type": "code",
      "metadata": {
        "id": "8GHh8Nbmey74"
      },
      "source": [
        "#Concatenating temp1 and temp2 \n",
        "features=np.concatenate((temp1,temp2), axis=1)"
      ],
      "execution_count": null,
      "outputs": []
    },
    {
      "cell_type": "code",
      "metadata": {
        "colab": {
          "base_uri": "https://localhost:8080/"
        },
        "id": "gHUfc0URe_kF",
        "outputId": "9735b6ed-e8cd-4c4b-8ce9-7b22a90f7725"
      },
      "source": [
        "features"
      ],
      "execution_count": null,
      "outputs": [
        {
          "output_type": "execute_result",
          "data": {
            "text/plain": [
              "array([[0.000e+00, 0.000e+00, 0.000e+00, ..., 0.000e+00, 2.999e+03,\n",
              "        1.000e+00],\n",
              "       [0.000e+00, 0.000e+00, 0.000e+00, ..., 0.000e+00, 1.499e+03,\n",
              "        1.000e+00],\n",
              "       [0.000e+00, 0.000e+00, 0.000e+00, ..., 0.000e+00, 2.999e+03,\n",
              "        1.000e+00],\n",
              "       ...,\n",
              "       [0.000e+00, 0.000e+00, 0.000e+00, ..., 0.000e+00, 7.990e+02,\n",
              "        1.000e+00],\n",
              "       [0.000e+00, 0.000e+00, 0.000e+00, ..., 0.000e+00, 3.125e+03,\n",
              "        1.000e+00],\n",
              "       [0.000e+00, 0.000e+00, 0.000e+00, ..., 0.000e+00, 3.125e+03,\n",
              "        1.000e+00]])"
            ]
          },
          "metadata": {
            "tags": []
          },
          "execution_count": 58
        }
      ]
    },
    {
      "cell_type": "code",
      "metadata": {
        "colab": {
          "base_uri": "https://localhost:8080/"
        },
        "id": "MlQLndzVfSPL",
        "outputId": "544890c2-bc65-4f8c-f510-f69943533bba"
      },
      "source": [
        "features.shape"
      ],
      "execution_count": null,
      "outputs": [
        {
          "output_type": "execute_result",
          "data": {
            "text/plain": [
              "(23165, 168)"
            ]
          },
          "metadata": {
            "tags": []
          },
          "execution_count": 59
        }
      ]
    },
    {
      "cell_type": "markdown",
      "metadata": {
        "id": "hDKafh1ahjKb"
      },
      "source": [
        "**Splitting the dataset into the Training set and Test set**"
      ]
    },
    {
      "cell_type": "code",
      "metadata": {
        "id": "vUuYkqB7fYTJ"
      },
      "source": [
        "features_train, features_test, labels_train, labels_test = train_test_split(features, labels, test_size = 0.2, random_state=42)"
      ],
      "execution_count": null,
      "outputs": []
    },
    {
      "cell_type": "code",
      "metadata": {
        "colab": {
          "base_uri": "https://localhost:8080/"
        },
        "id": "bgHeI74dhsaF",
        "outputId": "c7c31508-0c3b-49fc-d2ba-febfcd63c5f6"
      },
      "source": [
        "features_train.shape"
      ],
      "execution_count": null,
      "outputs": [
        {
          "output_type": "execute_result",
          "data": {
            "text/plain": [
              "(18532, 168)"
            ]
          },
          "metadata": {
            "tags": []
          },
          "execution_count": 61
        }
      ]
    },
    {
      "cell_type": "code",
      "metadata": {
        "colab": {
          "base_uri": "https://localhost:8080/"
        },
        "id": "Jqef6Qgyh1xx",
        "outputId": "5e505b93-7f94-403f-8f1e-4f8c8a293e26"
      },
      "source": [
        "features_train"
      ],
      "execution_count": null,
      "outputs": [
        {
          "output_type": "execute_result",
          "data": {
            "text/plain": [
              "array([[0.000e+00, 0.000e+00, 0.000e+00, ..., 0.000e+00, 7.990e+02,\n",
              "        1.000e+00],\n",
              "       [0.000e+00, 0.000e+00, 0.000e+00, ..., 0.000e+00, 1.599e+03,\n",
              "        1.000e+00],\n",
              "       [0.000e+00, 0.000e+00, 0.000e+00, ..., 0.000e+00, 9.990e+02,\n",
              "        1.000e+00],\n",
              "       ...,\n",
              "       [0.000e+00, 0.000e+00, 0.000e+00, ..., 0.000e+00, 9.990e+02,\n",
              "        2.000e+00],\n",
              "       [0.000e+00, 0.000e+00, 0.000e+00, ..., 0.000e+00, 2.499e+03,\n",
              "        1.000e+00],\n",
              "       [0.000e+00, 0.000e+00, 0.000e+00, ..., 0.000e+00, 9.990e+02,\n",
              "        1.000e+00]])"
            ]
          },
          "metadata": {
            "tags": []
          },
          "execution_count": 62
        }
      ]
    },
    {
      "cell_type": "code",
      "metadata": {
        "colab": {
          "base_uri": "https://localhost:8080/"
        },
        "id": "DYiN98O-jMcF",
        "outputId": "29e886df-255a-491a-d2dc-3c0decdf4849"
      },
      "source": [
        "labels_train.shape"
      ],
      "execution_count": null,
      "outputs": [
        {
          "output_type": "execute_result",
          "data": {
            "text/plain": [
              "(18532,)"
            ]
          },
          "metadata": {
            "tags": []
          },
          "execution_count": 63
        }
      ]
    },
    {
      "cell_type": "code",
      "metadata": {
        "colab": {
          "base_uri": "https://localhost:8080/"
        },
        "id": "sgU_i2S2kWxq",
        "outputId": "95874c1d-0abe-46ce-8a76-1be088c64b55"
      },
      "source": [
        "labels_train"
      ],
      "execution_count": null,
      "outputs": [
        {
          "output_type": "execute_result",
          "data": {
            "text/plain": [
              "array([25, 43, 57, ..., 20, 65, 62])"
            ]
          },
          "metadata": {
            "tags": []
          },
          "execution_count": 64
        }
      ]
    },
    {
      "cell_type": "code",
      "metadata": {
        "colab": {
          "base_uri": "https://localhost:8080/"
        },
        "id": "gg3E7xNUjRXa",
        "outputId": "0e0d8c7f-d25b-4ca0-8a8a-3899e35a5087"
      },
      "source": [
        "features_test.shape"
      ],
      "execution_count": null,
      "outputs": [
        {
          "output_type": "execute_result",
          "data": {
            "text/plain": [
              "(4633, 168)"
            ]
          },
          "metadata": {
            "tags": []
          },
          "execution_count": 65
        }
      ]
    },
    {
      "cell_type": "code",
      "metadata": {
        "colab": {
          "base_uri": "https://localhost:8080/"
        },
        "id": "hIs_UfQYjbpz",
        "outputId": "a65d4362-74c9-4292-a147-3930ae13bd2a"
      },
      "source": [
        "features_test"
      ],
      "execution_count": null,
      "outputs": [
        {
          "output_type": "execute_result",
          "data": {
            "text/plain": [
              "array([[0.000e+00, 0.000e+00, 0.000e+00, ..., 0.000e+00, 1.299e+03,\n",
              "        2.000e+00],\n",
              "       [0.000e+00, 0.000e+00, 0.000e+00, ..., 0.000e+00, 5.990e+02,\n",
              "        1.000e+00],\n",
              "       [0.000e+00, 0.000e+00, 0.000e+00, ..., 0.000e+00, 1.299e+03,\n",
              "        1.000e+00],\n",
              "       ...,\n",
              "       [0.000e+00, 0.000e+00, 0.000e+00, ..., 0.000e+00, 5.690e+02,\n",
              "        1.000e+00],\n",
              "       [0.000e+00, 0.000e+00, 0.000e+00, ..., 0.000e+00, 5.390e+02,\n",
              "        1.000e+00],\n",
              "       [0.000e+00, 0.000e+00, 0.000e+00, ..., 0.000e+00, 1.799e+03,\n",
              "        1.000e+00]])"
            ]
          },
          "metadata": {
            "tags": []
          },
          "execution_count": 66
        }
      ]
    },
    {
      "cell_type": "code",
      "metadata": {
        "colab": {
          "base_uri": "https://localhost:8080/"
        },
        "id": "ccbVrPIHkbPU",
        "outputId": "a0383b41-236a-4400-984a-0c586ec06c03"
      },
      "source": [
        "labels_test.shape"
      ],
      "execution_count": null,
      "outputs": [
        {
          "output_type": "execute_result",
          "data": {
            "text/plain": [
              "(4633,)"
            ]
          },
          "metadata": {
            "tags": []
          },
          "execution_count": 67
        }
      ]
    },
    {
      "cell_type": "code",
      "metadata": {
        "colab": {
          "base_uri": "https://localhost:8080/"
        },
        "id": "qgQlYuSlkd4u",
        "outputId": "a3d42cf8-0a36-4b08-889a-2d1e6d355ff4"
      },
      "source": [
        "labels_test"
      ],
      "execution_count": null,
      "outputs": [
        {
          "output_type": "execute_result",
          "data": {
            "text/plain": [
              "array([38, 20, 46, ..., 33, 50, 63])"
            ]
          },
          "metadata": {
            "tags": []
          },
          "execution_count": 68
        }
      ]
    },
    {
      "cell_type": "markdown",
      "metadata": {
        "id": "V211LUKckxNh"
      },
      "source": [
        "**Feature Scaling using StandardScaler**"
      ]
    },
    {
      "cell_type": "code",
      "metadata": {
        "id": "ZLZ_ivv8kfAt"
      },
      "source": [
        "scaler = StandardScaler()\n",
        "features_train = scaler.fit_transform(features_train)\n",
        "features_test = scaler.transform(features_test)"
      ],
      "execution_count": null,
      "outputs": []
    },
    {
      "cell_type": "code",
      "metadata": {
        "colab": {
          "base_uri": "https://localhost:8080/"
        },
        "id": "j4Y1erdolXK6",
        "outputId": "96a63d80-4ea8-42e4-a681-12c751cdf80d"
      },
      "source": [
        "features_train"
      ],
      "execution_count": null,
      "outputs": [
        {
          "output_type": "execute_result",
          "data": {
            "text/plain": [
              "array([[-0.07216095, -0.07291271, -0.05603166, ..., -0.14154585,\n",
              "        -0.88336518, -0.44913647],\n",
              "       [-0.07216095, -0.07291271, -0.05603166, ..., -0.14154585,\n",
              "         0.38751424, -0.44913647],\n",
              "       [-0.07216095, -0.07291271, -0.05603166, ..., -0.14154585,\n",
              "        -0.56564532, -0.44913647],\n",
              "       ...,\n",
              "       [-0.07216095, -0.07291271, -0.05603166, ..., -0.14154585,\n",
              "        -0.56564532,  1.13325842],\n",
              "       [-0.07216095, -0.07291271, -0.05603166, ..., -0.14154585,\n",
              "         1.81725359, -0.44913647],\n",
              "       [-0.07216095, -0.07291271, -0.05603166, ..., -0.14154585,\n",
              "        -0.56564532, -0.44913647]])"
            ]
          },
          "metadata": {
            "tags": []
          },
          "execution_count": 70
        }
      ]
    },
    {
      "cell_type": "code",
      "metadata": {
        "colab": {
          "base_uri": "https://localhost:8080/"
        },
        "id": "wYDK1Srglhg3",
        "outputId": "8aa0f099-e24e-4d29-f106-83f1809edd58"
      },
      "source": [
        "features_test"
      ],
      "execution_count": null,
      "outputs": [
        {
          "output_type": "execute_result",
          "data": {
            "text/plain": [
              "array([[-0.07216095, -0.07291271, -0.05603166, ..., -0.14154585,\n",
              "        -0.08906554,  1.13325842],\n",
              "       [-0.07216095, -0.07291271, -0.05603166, ..., -0.14154585,\n",
              "        -1.20108504, -0.44913647],\n",
              "       [-0.07216095, -0.07291271, -0.05603166, ..., -0.14154585,\n",
              "        -0.08906554, -0.44913647],\n",
              "       ...,\n",
              "       [-0.07216095, -0.07291271, -0.05603166, ..., -0.14154585,\n",
              "        -1.24874301, -0.44913647],\n",
              "       [-0.07216095, -0.07291271, -0.05603166, ..., -0.14154585,\n",
              "        -1.29640099, -0.44913647],\n",
              "       [-0.07216095, -0.07291271, -0.05603166, ..., -0.14154585,\n",
              "         0.7052341 , -0.44913647]])"
            ]
          },
          "metadata": {
            "tags": []
          },
          "execution_count": 71
        }
      ]
    },
    {
      "cell_type": "markdown",
      "metadata": {
        "id": "DkAMCVfMl2SV"
      },
      "source": [
        "#**Fit the data into the model**"
      ]
    },
    {
      "cell_type": "markdown",
      "metadata": {
        "id": "xwvVzvQ1Fh0v"
      },
      "source": [
        "###**DecisionTreeRegressor**"
      ]
    },
    {
      "cell_type": "code",
      "metadata": {
        "id": "6BKB02W8lkC1",
        "colab": {
          "base_uri": "https://localhost:8080/"
        },
        "outputId": "3c6f973f-7442-4802-82f0-b4e2ba921a6d"
      },
      "source": [
        "regressor_model=DecisionTreeRegressor()\n",
        "regressor_model.fit(features_train,labels_train)"
      ],
      "execution_count": null,
      "outputs": [
        {
          "output_type": "execute_result",
          "data": {
            "text/plain": [
              "DecisionTreeRegressor(ccp_alpha=0.0, criterion='mse', max_depth=None,\n",
              "                      max_features=None, max_leaf_nodes=None,\n",
              "                      min_impurity_decrease=0.0, min_impurity_split=None,\n",
              "                      min_samples_leaf=1, min_samples_split=2,\n",
              "                      min_weight_fraction_leaf=0.0, presort='deprecated',\n",
              "                      random_state=None, splitter='best')"
            ]
          },
          "metadata": {
            "tags": []
          },
          "execution_count": 72
        }
      ]
    },
    {
      "cell_type": "code",
      "metadata": {
        "id": "_-Qtkm_nnb8u",
        "colab": {
          "base_uri": "https://localhost:8080/"
        },
        "outputId": "7fb683d1-88d1-4c97-f9a9-95a5af836e34"
      },
      "source": [
        "#training score\n",
        "regressor_model.score(features_train,labels_train)"
      ],
      "execution_count": null,
      "outputs": [
        {
          "output_type": "execute_result",
          "data": {
            "text/plain": [
              "0.9004738066693447"
            ]
          },
          "metadata": {
            "tags": []
          },
          "execution_count": 73
        }
      ]
    },
    {
      "cell_type": "code",
      "metadata": {
        "colab": {
          "base_uri": "https://localhost:8080/"
        },
        "id": "rbsan2aCBdcW",
        "outputId": "0d197de7-e428-4856-f199-f8c33b18527a"
      },
      "source": [
        "#testing score\n",
        "regressor_model.score(features_test,labels_test)"
      ],
      "execution_count": null,
      "outputs": [
        {
          "output_type": "execute_result",
          "data": {
            "text/plain": [
              "0.8237576309194159"
            ]
          },
          "metadata": {
            "tags": []
          },
          "execution_count": 74
        }
      ]
    },
    {
      "cell_type": "code",
      "metadata": {
        "id": "8cahZlQoBnMR"
      },
      "source": [
        "pred=regressor_model.predict(features_test)"
      ],
      "execution_count": null,
      "outputs": []
    },
    {
      "cell_type": "code",
      "metadata": {
        "colab": {
          "base_uri": "https://localhost:8080/"
        },
        "id": "JNi8F9A9BwLB",
        "outputId": "24d03444-cba3-41a1-81ad-13c52af29372"
      },
      "source": [
        "pred[20:30]"
      ],
      "execution_count": null,
      "outputs": [
        {
          "output_type": "execute_result",
          "data": {
            "text/plain": [
              "array([67.71428571, 76.33333333, 64.75      , 53.        , 69.        ,\n",
              "       35.        , 22.4       , 59.        , 48.        , 47.36363636])"
            ]
          },
          "metadata": {
            "tags": []
          },
          "execution_count": 76
        }
      ]
    },
    {
      "cell_type": "code",
      "metadata": {
        "colab": {
          "base_uri": "https://localhost:8080/"
        },
        "id": "v-PpuAO6B1pP",
        "outputId": "1fa11d81-aa7d-413b-fa19-c1fe136c897f"
      },
      "source": [
        "labels_test[20:30]"
      ],
      "execution_count": null,
      "outputs": [
        {
          "output_type": "execute_result",
          "data": {
            "text/plain": [
              "array([67, 77, 65, 53, 69, 35, 35, 65, 48, 38])"
            ]
          },
          "metadata": {
            "tags": []
          },
          "execution_count": 77
        }
      ]
    },
    {
      "cell_type": "code",
      "metadata": {
        "colab": {
          "base_uri": "https://localhost:8080/"
        },
        "id": "DqZpBdAnB6_B",
        "outputId": "1b17ded4-d4fa-4fb3-b445-1152c41a39ea"
      },
      "source": [
        "# Calculating the mean_square_error \n",
        "mean_squared_error(labels_test,pred)"
      ],
      "execution_count": null,
      "outputs": [
        {
          "output_type": "execute_result",
          "data": {
            "text/plain": [
              "47.472071248623536"
            ]
          },
          "metadata": {
            "tags": []
          },
          "execution_count": 78
        }
      ]
    },
    {
      "cell_type": "code",
      "metadata": {
        "colab": {
          "base_uri": "https://localhost:8080/"
        },
        "id": "-Ah1kHi_EVTQ",
        "outputId": "c532635d-e4cb-43b1-8a34-51a2fd5e4b45"
      },
      "source": [
        "#Calculating the mean_absolute_error\n",
        "mean_absolute_error(labels_test,pred)"
      ],
      "execution_count": null,
      "outputs": [
        {
          "output_type": "execute_result",
          "data": {
            "text/plain": [
              "3.534726412161521"
            ]
          },
          "metadata": {
            "tags": []
          },
          "execution_count": 79
        }
      ]
    },
    {
      "cell_type": "code",
      "metadata": {
        "id": "ovcSQo9eXOR-"
      },
      "source": [
        "train_list=[]\n",
        "test_list=[]\n",
        "for i in range(10,100):\n",
        "    reg=DecisionTreeRegressor(max_depth=i)\n",
        "    reg.fit(features_train,labels_train)\n",
        "    train_score=reg.score(features_train,labels_train)\n",
        "    test_score=reg.score(features_test,labels_test)\n",
        "    train_list.append(train_score)\n",
        "    test_list.append(test_score)"
      ],
      "execution_count": null,
      "outputs": []
    },
    {
      "cell_type": "code",
      "metadata": {
        "colab": {
          "base_uri": "https://localhost:8080/",
          "height": 516
        },
        "id": "j2OSy9YZeJ9d",
        "outputId": "26d7247c-f118-4336-add0-83b9d18e7f4a"
      },
      "source": [
        "x=range(10,100)\n",
        "plt.figure(figsize=(14,8))\n",
        "plt.plot(x,train_list,marker=\"o\")\n",
        "plt.plot(x,test_list,marker=\"o\")\n",
        "plt.xlabel(\"MAX_DEPTH\")\n",
        "plt.ylabel(\"SCORE\")"
      ],
      "execution_count": null,
      "outputs": [
        {
          "output_type": "execute_result",
          "data": {
            "text/plain": [
              "Text(0, 0.5, 'SCORE')"
            ]
          },
          "metadata": {
            "tags": []
          },
          "execution_count": 81
        },
        {
          "output_type": "display_data",
          "data": {
            "image/png": "[encoded data removed]",
            "text/plain": [
              "<Figure size 1008x576 with 1 Axes>"
            ]
          },
          "metadata": {
            "tags": [],
            "needs_background": "light"
          }
        }
      ]
    },
    {
      "cell_type": "code",
      "metadata": {
        "colab": {
          "base_uri": "https://localhost:8080/"
        },
        "id": "2jIPsdhCeFrH",
        "outputId": "75af7467-495a-4541-b77d-869124258944"
      },
      "source": [
        "reg=DecisionTreeRegressor(max_depth=89)\n",
        "reg.fit(features_train,labels_train)\n",
        "train_score=reg.score(features_train,labels_train)\n",
        "test_score=reg.score(features_test,labels_test)\n",
        "train_score,test_score"
      ],
      "execution_count": null,
      "outputs": [
        {
          "output_type": "execute_result",
          "data": {
            "text/plain": [
              "(0.894258810608929, 0.8243305923556183)"
            ]
          },
          "metadata": {
            "tags": []
          },
          "execution_count": 82
        }
      ]
    },
    {
      "cell_type": "code",
      "metadata": {
        "id": "YpLBWj9UgTFW"
      },
      "source": [
        "train_list=[]\n",
        "test_list=[]\n",
        "for i in range(2,50):\n",
        "    reg=DecisionTreeRegressor(max_depth=89,min_samples_split=i)\n",
        "    reg.fit(features_train,labels_train)\n",
        "    train_score=reg.score(features_train,labels_train)\n",
        "    test_score=reg.score(features_test,labels_test)\n",
        "    train_list.append(train_score)\n",
        "    test_list.append(test_score)"
      ],
      "execution_count": null,
      "outputs": []
    },
    {
      "cell_type": "code",
      "metadata": {
        "colab": {
          "base_uri": "https://localhost:8080/",
          "height": 407
        },
        "id": "HnQeZkJ8grXV",
        "outputId": "e93a8610-e650-4033-d824-b854f36e2086"
      },
      "source": [
        "x=range(2,50)\n",
        "plt.figure(figsize=(8,6))\n",
        "plt.plot(x,train_list,marker=\"o\")\n",
        "plt.plot(x,test_list,marker=\"o\")\n",
        "plt.xlabel(\"MIN_SAMPLES_SPLIT\")\n",
        "plt.ylabel(\"SCORE\")"
      ],
      "execution_count": null,
      "outputs": [
        {
          "output_type": "execute_result",
          "data": {
            "text/plain": [
              "Text(0, 0.5, 'SCORE')"
            ]
          },
          "metadata": {
            "tags": []
          },
          "execution_count": 84
        },
        {
          "output_type": "display_data",
          "data": {
            "image/png": "[encoded data removed]",
            "text/plain": [
              "<Figure size 576x432 with 1 Axes>"
            ]
          },
          "metadata": {
            "tags": [],
            "needs_background": "light"
          }
        }
      ]
    },
    {
      "cell_type": "code",
      "metadata": {
        "colab": {
          "base_uri": "https://localhost:8080/"
        },
        "id": "mpjHRXLjiyUS",
        "outputId": "158b4caa-8649-4556-e0da-08e7318d3bf4"
      },
      "source": [
        "reg=DecisionTreeRegressor(max_depth=89,min_samples_split=36)\n",
        "reg.fit(features_train,labels_train)\n",
        "train_score=reg.score(features_train,labels_train)\n",
        "test_score=reg.score(features_test,labels_test)\n",
        "train_score,test_score"
      ],
      "execution_count": null,
      "outputs": [
        {
          "output_type": "execute_result",
          "data": {
            "text/plain": [
              "(0.8521612874687795, 0.8340200591778407)"
            ]
          },
          "metadata": {
            "tags": []
          },
          "execution_count": 85
        }
      ]
    },
    {
      "cell_type": "code",
      "metadata": {
        "id": "uODf1RcuKzOG"
      },
      "source": [
        "train_list=[]\n",
        "test_list=[]\n",
        "for i in range(2,50):\n",
        "    reg=DecisionTreeRegressor(max_depth=89,min_samples_split=35,min_samples_leaf=i)\n",
        "    reg.fit(features_train,labels_train)\n",
        "    train_score=reg.score(features_train,labels_train)\n",
        "    test_score=reg.score(features_test,labels_test)\n",
        "    train_list.append(train_score)\n",
        "    test_list.append(test_score)\n",
        "    "
      ],
      "execution_count": null,
      "outputs": []
    },
    {
      "cell_type": "code",
      "metadata": {
        "colab": {
          "base_uri": "https://localhost:8080/",
          "height": 407
        },
        "id": "HJoX0tnJMCNJ",
        "outputId": "afbe0e4a-6cfd-4703-f092-38c87f2a47ed"
      },
      "source": [
        "x=range(2,50)\n",
        "plt.figure(figsize=(8,6))\n",
        "plt.plot(x,train_list,marker=\"o\")\n",
        "plt.plot(x,test_list,marker=\"o\")\n",
        "plt.xlabel(\"MIN_SAMPLES_LEAF\")\n",
        "plt.ylabel(\"SCORE\")"
      ],
      "execution_count": null,
      "outputs": [
        {
          "output_type": "execute_result",
          "data": {
            "text/plain": [
              "Text(0, 0.5, 'SCORE')"
            ]
          },
          "metadata": {
            "tags": []
          },
          "execution_count": 87
        },
        {
          "output_type": "display_data",
          "data": {
            "image/png": "[encoded data removed]",
            "text/plain": [
              "<Figure size 576x432 with 1 Axes>"
            ]
          },
          "metadata": {
            "tags": [],
            "needs_background": "light"
          }
        }
      ]
    },
    {
      "cell_type": "code",
      "metadata": {
        "colab": {
          "base_uri": "https://localhost:8080/"
        },
        "id": "I8-AWr-QMCKH",
        "outputId": "e4204794-2900-429c-cf09-17a3e99378b8"
      },
      "source": [
        "reg=DecisionTreeRegressor(max_depth=89,min_samples_split=36,min_samples_leaf=6)\n",
        "reg.fit(features_train,labels_train)\n",
        "train_score=reg.score(features_train,labels_train)\n",
        "test_score=reg.score(features_test,labels_test)\n",
        "train_score,test_score"
      ],
      "execution_count": null,
      "outputs": [
        {
          "output_type": "execute_result",
          "data": {
            "text/plain": [
              "(0.8427371764549191, 0.8255823997761573)"
            ]
          },
          "metadata": {
            "tags": []
          },
          "execution_count": 88
        }
      ]
    },
    {
      "cell_type": "code",
      "metadata": {
        "id": "xp1GR_fvOPNY"
      },
      "source": [
        "pred1=reg.predict(features_test)"
      ],
      "execution_count": null,
      "outputs": []
    },
    {
      "cell_type": "code",
      "metadata": {
        "colab": {
          "base_uri": "https://localhost:8080/"
        },
        "id": "SdsqRP9GOUzP",
        "outputId": "fb75915d-69b2-4b93-a40a-cd04c361d44a"
      },
      "source": [
        "pred1[20:30]"
      ],
      "execution_count": null,
      "outputs": [
        {
          "output_type": "execute_result",
          "data": {
            "text/plain": [
              "array([66.8       , 76.2962963 , 61.54368932, 53.        , 68.        ,\n",
              "       35.        , 22.88235294, 58.42105263, 48.        , 46.05882353])"
            ]
          },
          "metadata": {
            "tags": []
          },
          "execution_count": 90
        }
      ]
    },
    {
      "cell_type": "code",
      "metadata": {
        "colab": {
          "base_uri": "https://localhost:8080/"
        },
        "id": "6yovwhnGOYX9",
        "outputId": "459d3c17-a761-4d31-dcab-f60081917ea4"
      },
      "source": [
        "labels_test[20:30]"
      ],
      "execution_count": null,
      "outputs": [
        {
          "output_type": "execute_result",
          "data": {
            "text/plain": [
              "array([67, 77, 65, 53, 69, 35, 35, 65, 48, 38])"
            ]
          },
          "metadata": {
            "tags": []
          },
          "execution_count": 91
        }
      ]
    },
    {
      "cell_type": "code",
      "metadata": {
        "colab": {
          "base_uri": "https://localhost:8080/"
        },
        "id": "-qgToFyFOgEY",
        "outputId": "901da629-d372-4e9e-896a-f926bd904827"
      },
      "source": [
        "mean_squared_error(labels_test,pred1)"
      ],
      "execution_count": null,
      "outputs": [
        {
          "output_type": "execute_result",
          "data": {
            "text/plain": [
              "46.98055744503929"
            ]
          },
          "metadata": {
            "tags": []
          },
          "execution_count": 92
        }
      ]
    },
    {
      "cell_type": "code",
      "metadata": {
        "colab": {
          "base_uri": "https://localhost:8080/"
        },
        "id": "mHcvUGNROnfQ",
        "outputId": "4fcdfe32-531a-4b17-ac71-bc574152211d"
      },
      "source": [
        "mean_absolute_error(labels_test,pred1)"
      ],
      "execution_count": null,
      "outputs": [
        {
          "output_type": "execute_result",
          "data": {
            "text/plain": [
              "3.931849034599263"
            ]
          },
          "metadata": {
            "tags": []
          },
          "execution_count": 93
        }
      ]
    },
    {
      "cell_type": "markdown",
      "metadata": {
        "id": "zqqqSGkeUg0Q"
      },
      "source": [
        "###**RandomForestRegressor**"
      ]
    },
    {
      "cell_type": "code",
      "metadata": {
        "colab": {
          "base_uri": "https://localhost:8080/"
        },
        "id": "L8RQyadMQhSs",
        "outputId": "19697e50-f8fa-4e1d-e175-de3f8226a560"
      },
      "source": [
        "regressor=RandomForestRegressor()\n",
        "regressor.fit(features_train,labels_train)"
      ],
      "execution_count": null,
      "outputs": [
        {
          "output_type": "execute_result",
          "data": {
            "text/plain": [
              "RandomForestRegressor(bootstrap=True, ccp_alpha=0.0, criterion='mse',\n",
              "                      max_depth=None, max_features='auto', max_leaf_nodes=None,\n",
              "                      max_samples=None, min_impurity_decrease=0.0,\n",
              "                      min_impurity_split=None, min_samples_leaf=1,\n",
              "                      min_samples_split=2, min_weight_fraction_leaf=0.0,\n",
              "                      n_estimators=100, n_jobs=None, oob_score=False,\n",
              "                      random_state=None, verbose=0, warm_start=False)"
            ]
          },
          "metadata": {
            "tags": []
          },
          "execution_count": 94
        }
      ]
    },
    {
      "cell_type": "code",
      "metadata": {
        "colab": {
          "base_uri": "https://localhost:8080/"
        },
        "id": "qyReSwq1UytP",
        "outputId": "7c492548-9dd6-4d16-c4a7-85615e49ce5e"
      },
      "source": [
        "regressor.score(features_train,labels_train)"
      ],
      "execution_count": null,
      "outputs": [
        {
          "output_type": "execute_result",
          "data": {
            "text/plain": [
              "0.8952029895303681"
            ]
          },
          "metadata": {
            "tags": []
          },
          "execution_count": 95
        }
      ]
    },
    {
      "cell_type": "code",
      "metadata": {
        "colab": {
          "base_uri": "https://localhost:8080/"
        },
        "id": "Z8_qlO1qOLkq",
        "outputId": "6701afc1-c1a6-46dd-bf77-3ca722c86f06"
      },
      "source": [
        "regressor.score(features_test,labels_test)"
      ],
      "execution_count": null,
      "outputs": [
        {
          "output_type": "execute_result",
          "data": {
            "text/plain": [
              "0.8400740660179717"
            ]
          },
          "metadata": {
            "tags": []
          },
          "execution_count": 96
        }
      ]
    },
    {
      "cell_type": "code",
      "metadata": {
        "id": "YwhOk7wVOW8o"
      },
      "source": [
        "y_pred=regressor.predict(features_test)"
      ],
      "execution_count": null,
      "outputs": []
    },
    {
      "cell_type": "code",
      "metadata": {
        "colab": {
          "base_uri": "https://localhost:8080/"
        },
        "id": "lbHAtr77OucU",
        "outputId": "631942e3-973d-418c-9497-262293f276db"
      },
      "source": [
        "y_pred[20:30]"
      ],
      "execution_count": null,
      "outputs": [
        {
          "output_type": "execute_result",
          "data": {
            "text/plain": [
              "array([67.66641481, 76.33345144, 64.82639719, 53.        , 68.99571429,\n",
              "       35.        , 22.42553571, 59.14036849, 48.        , 48.8036395 ])"
            ]
          },
          "metadata": {
            "tags": []
          },
          "execution_count": 98
        }
      ]
    },
    {
      "cell_type": "code",
      "metadata": {
        "colab": {
          "base_uri": "https://localhost:8080/"
        },
        "id": "TgMHKkY9OzpP",
        "outputId": "0895f736-7b54-4d6f-d880-07daeb93db44"
      },
      "source": [
        "labels_test[20:30]"
      ],
      "execution_count": null,
      "outputs": [
        {
          "output_type": "execute_result",
          "data": {
            "text/plain": [
              "array([67, 77, 65, 53, 69, 35, 35, 65, 48, 38])"
            ]
          },
          "metadata": {
            "tags": []
          },
          "execution_count": 99
        }
      ]
    },
    {
      "cell_type": "code",
      "metadata": {
        "colab": {
          "base_uri": "https://localhost:8080/"
        },
        "id": "jF1TOfrKOjgE",
        "outputId": "eea21711-5a90-4d50-d08c-7a6b90ea4c66"
      },
      "source": [
        "mean_squared_error(labels_test,y_pred)"
      ],
      "execution_count": null,
      "outputs": [
        {
          "output_type": "execute_result",
          "data": {
            "text/plain": [
              "43.07712936510843"
            ]
          },
          "metadata": {
            "tags": []
          },
          "execution_count": 100
        }
      ]
    },
    {
      "cell_type": "code",
      "metadata": {
        "colab": {
          "base_uri": "https://localhost:8080/"
        },
        "id": "SN_VJM1lOnYV",
        "outputId": "78d89a33-cd2d-4981-f0b5-da1417d384cc"
      },
      "source": [
        "mean_absolute_error(labels_test,y_pred)"
      ],
      "execution_count": null,
      "outputs": [
        {
          "output_type": "execute_result",
          "data": {
            "text/plain": [
              "3.4975519717980745"
            ]
          },
          "metadata": {
            "tags": []
          },
          "execution_count": 101
        }
      ]
    },
    {
      "cell_type": "code",
      "metadata": {
        "id": "wOL2PhCuO2LN"
      },
      "source": [
        "file='user_offer_attraction.pkl'\n",
        "pickle.dump(regressor,open(file,'wb'))"
      ],
      "execution_count": null,
      "outputs": []
    },
    {
      "cell_type": "code",
      "metadata": {
        "id": "UWFFebySYH6A"
      },
      "source": [
        "model_reg=pickle.load(open('user_offer_attraction.pkl','rb'))"
      ],
      "execution_count": null,
      "outputs": []
    },
    {
      "cell_type": "code",
      "metadata": {
        "id": "RSEAvJ8OYgZP"
      },
      "source": [
        "pred=model_reg.predict(features_test)"
      ],
      "execution_count": null,
      "outputs": []
    },
    {
      "cell_type": "code",
      "metadata": {
        "colab": {
          "base_uri": "https://localhost:8080/"
        },
        "id": "QKH_MW4jYjmS",
        "outputId": "5a895119-39eb-40b9-ac35-e9bd38a632d2"
      },
      "source": [
        "pred[20:30]"
      ],
      "execution_count": null,
      "outputs": [
        {
          "output_type": "execute_result",
          "data": {
            "text/plain": [
              "array([67.66641481, 76.33345144, 64.82639719, 53.        , 68.99571429,\n",
              "       35.        , 22.42553571, 59.14036849, 48.        , 48.8036395 ])"
            ]
          },
          "metadata": {
            "tags": []
          },
          "execution_count": 105
        }
      ]
    },
    {
      "cell_type": "code",
      "metadata": {
        "id": "GeGGs9L2YphH"
      },
      "source": [
        "l1=[['Shopping Bag','TEE_BUD',100,5]]"
      ],
      "execution_count": null,
      "outputs": []
    },
    {
      "cell_type": "code",
      "metadata": {
        "id": "pkTLWaheMFnM"
      },
      "source": [
        "df = pd.DataFrame(l1, columns=[\n",
        "                  'Sub_category', 'Brand', 'Price', 'Quantity'])"
      ],
      "execution_count": null,
      "outputs": []
    },
    {
      "cell_type": "code",
      "metadata": {
        "colab": {
          "base_uri": "https://localhost:8080/",
          "height": 80
        },
        "id": "J7dpOFNxMkd4",
        "outputId": "1ceb7f1e-b78d-48c5-cba8-97da2ebfbdc8"
      },
      "source": [
        "df"
      ],
      "execution_count": null,
      "outputs": [
        {
          "output_type": "execute_result",
          "data": {
            "text/html": [
              "<div>\n",
              "<style scoped>\n",
              "    .dataframe tbody tr th:only-of-type {\n",
              "        vertical-align: middle;\n",
              "    }\n",
              "\n",
              "    .dataframe tbody tr th {\n",
              "        vertical-align: top;\n",
              "    }\n",
              "\n",
              "    .dataframe thead th {\n",
              "        text-align: right;\n",
              "    }\n",
              "</style>\n",
              "<table border=\"1\" class=\"dataframe\">\n",
              "  <thead>\n",
              "    <tr style=\"text-align: right;\">\n",
              "      <th></th>\n",
              "      <th>Sub_category</th>\n",
              "      <th>Brand</th>\n",
              "      <th>Price</th>\n",
              "      <th>Quantity</th>\n",
              "    </tr>\n",
              "  </thead>\n",
              "  <tbody>\n",
              "    <tr>\n",
              "      <th>0</th>\n",
              "      <td>Shopping Bag</td>\n",
              "      <td>TEE_BUD</td>\n",
              "      <td>100</td>\n",
              "      <td>5</td>\n",
              "    </tr>\n",
              "  </tbody>\n",
              "</table>\n",
              "</div>"
            ],
            "text/plain": [
              "   Sub_category    Brand  Price  Quantity\n",
              "0  Shopping Bag  TEE_BUD    100         5"
            ]
          },
          "metadata": {
            "tags": []
          },
          "execution_count": 108
        }
      ]
    },
    {
      "cell_type": "code",
      "metadata": {
        "colab": {
          "base_uri": "https://localhost:8080/"
        },
        "id": "7eeJbJQ4MoG5",
        "outputId": "d5fbc300-cf33-44e5-b87e-36d1271d13cc"
      },
      "source": [
        "df.dtypes"
      ],
      "execution_count": null,
      "outputs": [
        {
          "output_type": "execute_result",
          "data": {
            "text/plain": [
              "Sub_category    object\n",
              "Brand           object\n",
              "Price            int64\n",
              "Quantity         int64\n",
              "dtype: object"
            ]
          },
          "metadata": {
            "tags": []
          },
          "execution_count": 109
        }
      ]
    },
    {
      "cell_type": "code",
      "metadata": {
        "id": "vfZKgrjdD6X4"
      },
      "source": [
        "y_pred=encoder.transform(df)"
      ],
      "execution_count": null,
      "outputs": []
    },
    {
      "cell_type": "code",
      "metadata": {
        "colab": {
          "base_uri": "https://localhost:8080/"
        },
        "id": "ROJvjaR5EqST",
        "outputId": "b28cfe34-5d43-4c74-a756-a459916be47c"
      },
      "source": [
        "y_pred"
      ],
      "execution_count": null,
      "outputs": [
        {
          "output_type": "execute_result",
          "data": {
            "text/plain": [
              "<1x170 sparse matrix of type '<class 'numpy.float64'>'\n",
              "\twith 4 stored elements in Compressed Sparse Row format>"
            ]
          },
          "metadata": {
            "tags": []
          },
          "execution_count": 111
        }
      ]
    },
    {
      "cell_type": "code",
      "metadata": {
        "id": "n7-C0eOaMvnT"
      },
      "source": [
        "y_pred=y_pred.toarray()"
      ],
      "execution_count": null,
      "outputs": []
    },
    {
      "cell_type": "code",
      "metadata": {
        "colab": {
          "base_uri": "https://localhost:8080/"
        },
        "id": "usPbUB4iNFTK",
        "outputId": "f61e45ca-fd00-415b-bf4d-2147c988a89a"
      },
      "source": [
        "y_pred"
      ],
      "execution_count": null,
      "outputs": [
        {
          "output_type": "execute_result",
          "data": {
            "text/plain": [
              "array([[  0.,   0.,   0.,   0.,   0.,   0.,   1.,   0.,   0.,   0.,   0.,\n",
              "          0.,   0.,   0.,   0.,   0.,   0.,   0.,   0.,   0.,   0.,   0.,\n",
              "          0.,   0.,   0.,   0.,   0.,   0.,   0.,   0.,   0.,   0.,   0.,\n",
              "          0.,   0.,   0.,   0.,   0.,   0.,   0.,   0.,   0.,   0.,   0.,\n",
              "          0.,   0.,   0.,   0.,   0.,   0.,   0.,   0.,   0.,   0.,   0.,\n",
              "          0.,   0.,   0.,   0.,   0.,   0.,   0.,   0.,   0.,   0.,   0.,\n",
              "          0.,   0.,   0.,   0.,   0.,   0.,   0.,   0.,   0.,   0.,   0.,\n",
              "          0.,   0.,   0.,   0.,   0.,   0.,   0.,   0.,   0.,   0.,   0.,\n",
              "          0.,   0.,   0.,   0.,   0.,   0.,   0.,   0.,   0.,   0.,   0.,\n",
              "          0.,   0.,   0.,   0.,   0.,   0.,   0.,   0.,   0.,   0.,   0.,\n",
              "          0.,   0.,   0.,   0.,   0.,   0.,   0.,   0.,   0.,   0.,   0.,\n",
              "          0.,   0.,   0.,   0.,   0.,   0.,   0.,   0.,   0.,   0.,   0.,\n",
              "          0.,   0.,   0.,   0.,   1.,   0.,   0.,   0.,   0.,   0.,   0.,\n",
              "          0.,   0.,   0.,   0.,   0.,   0.,   0.,   0.,   0.,   0.,   0.,\n",
              "          0.,   0.,   0.,   0.,   0.,   0.,   0.,   0.,   0.,   0.,   0.,\n",
              "          0.,   0.,   0., 100.,   5.]])"
            ]
          },
          "metadata": {
            "tags": []
          },
          "execution_count": 113
        }
      ]
    },
    {
      "cell_type": "code",
      "metadata": {
        "id": "4pLI4BLaNGaq"
      },
      "source": [
        "temp1=y_pred[:, 1:12]"
      ],
      "execution_count": null,
      "outputs": []
    },
    {
      "cell_type": "code",
      "metadata": {
        "colab": {
          "base_uri": "https://localhost:8080/"
        },
        "id": "oOUVxN_mNQfl",
        "outputId": "47181c26-3341-42ab-c4a8-be9b273f7505"
      },
      "source": [
        "temp1"
      ],
      "execution_count": null,
      "outputs": [
        {
          "output_type": "execute_result",
          "data": {
            "text/plain": [
              "array([[0., 0., 0., 0., 0., 1., 0., 0., 0., 0., 0.]])"
            ]
          },
          "metadata": {
            "tags": []
          },
          "execution_count": 115
        }
      ]
    },
    {
      "cell_type": "code",
      "metadata": {
        "id": "Ju40aDuBNRWy"
      },
      "source": [
        "temp2=y_pred[:,13:]"
      ],
      "execution_count": null,
      "outputs": []
    },
    {
      "cell_type": "code",
      "metadata": {
        "colab": {
          "base_uri": "https://localhost:8080/"
        },
        "id": "zRqzfWOoNbLY",
        "outputId": "f92d089f-7789-40f9-e6e1-326cdb898cfe"
      },
      "source": [
        "temp2"
      ],
      "execution_count": null,
      "outputs": [
        {
          "output_type": "execute_result",
          "data": {
            "text/plain": [
              "array([[  0.,   0.,   0.,   0.,   0.,   0.,   0.,   0.,   0.,   0.,   0.,\n",
              "          0.,   0.,   0.,   0.,   0.,   0.,   0.,   0.,   0.,   0.,   0.,\n",
              "          0.,   0.,   0.,   0.,   0.,   0.,   0.,   0.,   0.,   0.,   0.,\n",
              "          0.,   0.,   0.,   0.,   0.,   0.,   0.,   0.,   0.,   0.,   0.,\n",
              "          0.,   0.,   0.,   0.,   0.,   0.,   0.,   0.,   0.,   0.,   0.,\n",
              "          0.,   0.,   0.,   0.,   0.,   0.,   0.,   0.,   0.,   0.,   0.,\n",
              "          0.,   0.,   0.,   0.,   0.,   0.,   0.,   0.,   0.,   0.,   0.,\n",
              "          0.,   0.,   0.,   0.,   0.,   0.,   0.,   0.,   0.,   0.,   0.,\n",
              "          0.,   0.,   0.,   0.,   0.,   0.,   0.,   0.,   0.,   0.,   0.,\n",
              "          0.,   0.,   0.,   0.,   0.,   0.,   0.,   0.,   0.,   0.,   0.,\n",
              "          0.,   0.,   0.,   0.,   0.,   0.,   0.,   0.,   0.,   0.,   0.,\n",
              "          0.,   0.,   1.,   0.,   0.,   0.,   0.,   0.,   0.,   0.,   0.,\n",
              "          0.,   0.,   0.,   0.,   0.,   0.,   0.,   0.,   0.,   0.,   0.,\n",
              "          0.,   0.,   0.,   0.,   0.,   0.,   0.,   0.,   0.,   0.,   0.,\n",
              "          0., 100.,   5.]])"
            ]
          },
          "metadata": {
            "tags": []
          },
          "execution_count": 117
        }
      ]
    },
    {
      "cell_type": "code",
      "metadata": {
        "id": "QwJg0RAvNcmz"
      },
      "source": [
        "y_pred=np.concatenate((temp1,temp2), axis=1)"
      ],
      "execution_count": null,
      "outputs": []
    },
    {
      "cell_type": "code",
      "metadata": {
        "colab": {
          "base_uri": "https://localhost:8080/"
        },
        "id": "MZGWeBvJNfsW",
        "outputId": "86c55f77-864f-47ac-bf79-0d7bba22817b"
      },
      "source": [
        "y_pred.shape"
      ],
      "execution_count": null,
      "outputs": [
        {
          "output_type": "execute_result",
          "data": {
            "text/plain": [
              "(1, 168)"
            ]
          },
          "metadata": {
            "tags": []
          },
          "execution_count": 119
        }
      ]
    },
    {
      "cell_type": "code",
      "metadata": {
        "id": "ggdcprbLNgu9"
      },
      "source": [
        "y_pred=scaler.transform(y_pred)"
      ],
      "execution_count": null,
      "outputs": []
    },
    {
      "cell_type": "code",
      "metadata": {
        "colab": {
          "base_uri": "https://localhost:8080/"
        },
        "id": "VzF6U2D1NxiM",
        "outputId": "38951eea-35fa-4235-eed5-a49d7cb94a01"
      },
      "source": [
        "y_pred"
      ],
      "execution_count": null,
      "outputs": [
        {
          "output_type": "execute_result",
          "data": {
            "text/plain": [
              "array([[-7.21609541e-02, -7.29127110e-02, -5.60316649e-02,\n",
              "        -2.61953310e-01, -6.54304722e-02,  1.84982482e+01,\n",
              "        -2.02356504e-01, -2.18710872e-01, -3.85248857e-01,\n",
              "        -3.05927129e-01, -2.50107482e-01, -3.03013936e-02,\n",
              "        -2.08067866e-01, -4.47274042e-02, -1.11111111e-01,\n",
              "        -8.17405314e-02, -9.53592374e-02, -6.33174679e-02,\n",
              "        -7.02471101e-02, -1.60074973e-01, -4.98835602e-02,\n",
              "        -5.55450298e-02, -4.76602361e-02, -1.55039134e-01,\n",
              "        -4.09339114e-02, -3.36817546e-02, -9.00295212e-02,\n",
              "        -5.97840802e-02, -1.00416096e-01, -3.60102284e-02,\n",
              "        -7.43939157e-02, -8.59820417e-02, -8.30680374e-02,\n",
              "        -3.03013936e-02, -3.28691389e-02, -4.82255863e-02,\n",
              "        -1.10362142e-01, -7.47597305e-02, -1.15507932e-01,\n",
              "        -5.84048058e-02, -1.09102987e-01, -6.98581766e-02,\n",
              "        -1.98276461e-01, -3.03013936e-02, -4.65091126e-02,\n",
              "        -1.09608302e-01, -3.52510811e-02, -5.25318088e-02,\n",
              "        -1.01506936e-01, -5.04242215e-02, -3.03013936e-02,\n",
              "        -4.70881609e-02, -3.52510811e-02, -4.15900196e-02,\n",
              "        -1.89741374e-01, -3.03013936e-02, -3.52510811e-02,\n",
              "        -1.79963651e-02, -3.88996959e-02, -5.93278355e-02,\n",
              "        -3.28691389e-02, -1.24529912e-01, -8.69322889e-02,\n",
              "        -4.70881609e-02, -3.44753061e-02, -5.69926256e-02,\n",
              "        -9.90363332e-02, -8.17405314e-02, -6.41708815e-02,\n",
              "        -4.41176471e-02, -4.28723284e-02, -4.22360061e-02,\n",
              "        -1.59897588e-01, -7.10187121e-02, -2.93958759e-02,\n",
              "        -7.25377860e-02, -6.82807250e-02, -8.33967013e-02,\n",
              "        -7.21609541e-02, -1.03655573e-01, -9.36152366e-02,\n",
              "        -2.74958391e-02, -6.02369183e-02, -4.53290244e-02,\n",
              "        -5.50541468e-02, -2.74958391e-02, -1.32132878e-01,\n",
              "        -1.02586646e-01, -8.62999189e-02, -7.86739927e-02,\n",
              "        -3.88996959e-02, -7.62058200e-02, -7.54861597e-02,\n",
              "        -4.34994107e-02, -2.93958759e-02, -3.20360085e-02,\n",
              "        -3.52510811e-02, -1.24529912e-01, -5.60316649e-02,\n",
              "        -3.44753061e-02, -4.41176471e-02, -3.20360085e-02,\n",
              "        -1.45269030e-01, -5.25318088e-02, -1.70749315e-01,\n",
              "        -7.69189014e-02, -4.28723284e-02, -3.88996959e-02,\n",
              "        -1.84019889e-01, -4.53290244e-02, -5.74671571e-02,\n",
              "        -7.10187121e-02, -3.36817546e-02, -3.60102284e-02,\n",
              "        -5.84048058e-02, -7.79765827e-02, -2.74958391e-02,\n",
              "        -8.88031892e-02, -3.74826593e-02, -5.93278355e-02,\n",
              "        -5.45589012e-02, -5.40591731e-02, -9.70730199e-02,\n",
              "        -4.15900196e-02, -7.34599405e-03, -1.16938671e-01,\n",
              "        -3.44753061e-02, -3.36817546e-02, -3.67537783e-02,\n",
              "        -7.06339438e-02, -9.06366627e-02, -6.50132749e-02,\n",
              "        -3.95893093e-02, -1.03655573e-01,  8.10320125e+00,\n",
              "        -1.06800885e-01, -6.11326765e-02, -6.41708815e-02,\n",
              "        -3.03013936e-02, -6.62571201e-02, -1.73243584e-01,\n",
              "        -3.03013936e-02, -5.20128342e-02, -4.41176471e-02,\n",
              "        -3.20360085e-02, -9.65050166e-02, -1.17883364e-01,\n",
              "        -9.15400693e-02, -4.22360061e-02, -8.07309643e-02,\n",
              "        -9.21375814e-02, -4.09339114e-02, -4.93370339e-02,\n",
              "        -6.33174679e-02, -1.10111408e-01, -3.88996959e-02,\n",
              "        -8.50214898e-02, -4.65091126e-02, -5.93278355e-02,\n",
              "        -9.81995367e-02, -5.55450298e-02, -4.98835602e-02,\n",
              "        -6.62571201e-02, -5.69926256e-02, -1.47766790e-01,\n",
              "        -1.41545847e-01, -1.99379608e+00,  5.88044311e+00]])"
            ]
          },
          "metadata": {
            "tags": []
          },
          "execution_count": 121
        }
      ]
    },
    {
      "cell_type": "code",
      "metadata": {
        "colab": {
          "base_uri": "https://localhost:8080/"
        },
        "id": "7IK04hhONyhl",
        "outputId": "965ed955-0232-49d8-9212-940508e2ff66"
      },
      "source": [
        "model_reg.predict(y_pred)"
      ],
      "execution_count": null,
      "outputs": [
        {
          "output_type": "execute_result",
          "data": {
            "text/plain": [
              "array([25.02166667])"
            ]
          },
          "metadata": {
            "tags": []
          },
          "execution_count": 122
        }
      ]
    },
    {
      "cell_type": "code",
      "metadata": {
        "id": "QBrl7hLDN7xT"
      },
      "source": [
        ""
      ],
      "execution_count": null,
      "outputs": []
    }
  ]
}